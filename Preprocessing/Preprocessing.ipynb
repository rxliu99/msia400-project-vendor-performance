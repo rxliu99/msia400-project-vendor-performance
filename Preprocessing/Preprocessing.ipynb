{
 "cells": [
  {
   "cell_type": "markdown",
   "metadata": {},
   "source": [
    "# Preprocessing Datasets"
   ]
  },
  {
   "cell_type": "code",
   "execution_count": 1,
   "metadata": {},
   "outputs": [],
   "source": [
    "import pandas as pd"
   ]
  },
  {
   "cell_type": "markdown",
   "metadata": {},
   "source": [
    "## Preprocessing skuinfo"
   ]
  },
  {
   "cell_type": "code",
   "execution_count": 2,
   "metadata": {},
   "outputs": [
    {
     "name": "stderr",
     "output_type": "stream",
     "text": [
      "/Users/wangyifei/opt/anaconda3/lib/python3.7/site-packages/ipykernel_launcher.py:1: ParserWarning: Falling back to the 'python' engine because the 'c' engine does not support regex separators (separators > 1 char and different from '\\s+' are interpreted as regex); you can avoid this warning by specifying engine='python'.\n",
      "  \"\"\"Entry point for launching an IPython kernel.\n"
     ]
    }
   ],
   "source": [
    "df = pd.read_csv(\"skuinfo.csv\", sep = \"delimieter\", header = None)"
   ]
  },
  {
   "cell_type": "code",
   "execution_count": 3,
   "metadata": {},
   "outputs": [
    {
     "data": {
      "text/html": [
       "<div>\n",
       "<style scoped>\n",
       "    .dataframe tbody tr th:only-of-type {\n",
       "        vertical-align: middle;\n",
       "    }\n",
       "\n",
       "    .dataframe tbody tr th {\n",
       "        vertical-align: top;\n",
       "    }\n",
       "\n",
       "    .dataframe thead th {\n",
       "        text-align: right;\n",
       "    }\n",
       "</style>\n",
       "<table border=\"1\" class=\"dataframe\">\n",
       "  <thead>\n",
       "    <tr style=\"text-align: right;\">\n",
       "      <th></th>\n",
       "      <th>0</th>\n",
       "    </tr>\n",
       "  </thead>\n",
       "  <tbody>\n",
       "    <tr>\n",
       "      <th>0</th>\n",
       "      <td>3,6505,113,000400000003000,00    F55KT2,WHISPE...</td>\n",
       "    </tr>\n",
       "    <tr>\n",
       "      <th>1</th>\n",
       "      <td>4,8101,002,000400000004000,22    615CZ4,SPEARM...</td>\n",
       "    </tr>\n",
       "    <tr>\n",
       "      <th>2</th>\n",
       "      <td>5,7307,003,000400000005000,7LBS  245-01,34 SIL...</td>\n",
       "    </tr>\n",
       "    <tr>\n",
       "      <th>3</th>\n",
       "      <td>8,3404,00B,000400000008000,622   F05H84,MORNIN...</td>\n",
       "    </tr>\n",
       "    <tr>\n",
       "      <th>4</th>\n",
       "      <td>15,2301,004,000400000015000,126   MDU461,255CA...</td>\n",
       "    </tr>\n",
       "  </tbody>\n",
       "</table>\n",
       "</div>"
      ],
      "text/plain": [
       "                                                   0\n",
       "0  3,6505,113,000400000003000,00    F55KT2,WHISPE...\n",
       "1  4,8101,002,000400000004000,22    615CZ4,SPEARM...\n",
       "2  5,7307,003,000400000005000,7LBS  245-01,34 SIL...\n",
       "3  8,3404,00B,000400000008000,622   F05H84,MORNIN...\n",
       "4  15,2301,004,000400000015000,126   MDU461,255CA..."
      ]
     },
     "execution_count": 3,
     "metadata": {},
     "output_type": "execute_result"
    }
   ],
   "source": [
    "df.head()"
   ]
  },
  {
   "cell_type": "code",
   "execution_count": 4,
   "metadata": {},
   "outputs": [
    {
     "data": {
      "text/plain": [
       "8148"
      ]
     },
     "execution_count": 4,
     "metadata": {},
     "output_type": "execute_result"
    }
   ],
   "source": [
    "# Clean lines with extraseparating columns\n",
    "drops = []\n",
    "\n",
    "for i, v in enumerate(df[0]):\n",
    "    if df.iloc[i, 0].count(\",\") > 10:\n",
    "        drops.append(i)\n",
    "        \n",
    "len(drops)"
   ]
  },
  {
   "cell_type": "code",
   "execution_count": 5,
   "metadata": {},
   "outputs": [],
   "source": [
    "df = df.drop(drops)"
   ]
  },
  {
   "cell_type": "code",
   "execution_count": 6,
   "metadata": {},
   "outputs": [
    {
     "data": {
      "text/plain": [
       "0"
      ]
     },
     "execution_count": 6,
     "metadata": {},
     "output_type": "execute_result"
    }
   ],
   "source": [
    "# Drop lines with more commas than the standard (10); these lines have extra columns or poorly formatted columns\n",
    "drops2 = []\n",
    "\n",
    "for i, v in enumerate (df[0]):\n",
    "    if df.iloc[i, 0].count(\",\") > 10:\n",
    "        drops.append(i)\n",
    "len(drops2)"
   ]
  },
  {
   "cell_type": "code",
   "execution_count": 8,
   "metadata": {},
   "outputs": [],
   "source": [
    "df = df[0].str.split(\",\", expand = True)"
   ]
  },
  {
   "cell_type": "code",
   "execution_count": 9,
   "metadata": {},
   "outputs": [
    {
     "data": {
      "text/html": [
       "<div>\n",
       "<style scoped>\n",
       "    .dataframe tbody tr th:only-of-type {\n",
       "        vertical-align: middle;\n",
       "    }\n",
       "\n",
       "    .dataframe tbody tr th {\n",
       "        vertical-align: top;\n",
       "    }\n",
       "\n",
       "    .dataframe thead th {\n",
       "        text-align: right;\n",
       "    }\n",
       "</style>\n",
       "<table border=\"1\" class=\"dataframe\">\n",
       "  <thead>\n",
       "    <tr style=\"text-align: right;\">\n",
       "      <th></th>\n",
       "      <th>0</th>\n",
       "      <th>1</th>\n",
       "      <th>2</th>\n",
       "      <th>3</th>\n",
       "      <th>4</th>\n",
       "      <th>5</th>\n",
       "      <th>6</th>\n",
       "      <th>7</th>\n",
       "      <th>8</th>\n",
       "      <th>9</th>\n",
       "      <th>10</th>\n",
       "    </tr>\n",
       "  </thead>\n",
       "  <tbody>\n",
       "    <tr>\n",
       "      <th>0</th>\n",
       "      <td>3</td>\n",
       "      <td>6505</td>\n",
       "      <td>113</td>\n",
       "      <td>000400000003000</td>\n",
       "      <td>00    F55KT2</td>\n",
       "      <td>WHISPERWHITE</td>\n",
       "      <td>P8EA</td>\n",
       "      <td>1</td>\n",
       "      <td>5119207</td>\n",
       "      <td>TURNBURY</td>\n",
       "      <td>0</td>\n",
       "    </tr>\n",
       "    <tr>\n",
       "      <th>1</th>\n",
       "      <td>4</td>\n",
       "      <td>8101</td>\n",
       "      <td>002</td>\n",
       "      <td>000400000004000</td>\n",
       "      <td>22    615CZ4</td>\n",
       "      <td>SPEARMI</td>\n",
       "      <td>S</td>\n",
       "      <td>1</td>\n",
       "      <td>3311144</td>\n",
       "      <td>C A SPOR</td>\n",
       "      <td>0</td>\n",
       "    </tr>\n",
       "    <tr>\n",
       "      <th>2</th>\n",
       "      <td>5</td>\n",
       "      <td>7307</td>\n",
       "      <td>003</td>\n",
       "      <td>000400000005000</td>\n",
       "      <td>7LBS  245-01</td>\n",
       "      <td>34 SILVER</td>\n",
       "      <td>KING</td>\n",
       "      <td>1</td>\n",
       "      <td>5510554</td>\n",
       "      <td>BEAU IDE</td>\n",
       "      <td>0</td>\n",
       "    </tr>\n",
       "    <tr>\n",
       "      <th>3</th>\n",
       "      <td>8</td>\n",
       "      <td>3404</td>\n",
       "      <td>00B</td>\n",
       "      <td>000400000008000</td>\n",
       "      <td>622   F05H84</td>\n",
       "      <td>MORNING MI</td>\n",
       "      <td>2T</td>\n",
       "      <td>1</td>\n",
       "      <td>2912827</td>\n",
       "      <td>HARTSTRI</td>\n",
       "      <td>0</td>\n",
       "    </tr>\n",
       "    <tr>\n",
       "      <th>4</th>\n",
       "      <td>15</td>\n",
       "      <td>2301</td>\n",
       "      <td>004</td>\n",
       "      <td>000400000015000</td>\n",
       "      <td>126   MDU461</td>\n",
       "      <td>255CAMEL</td>\n",
       "      <td>12</td>\n",
       "      <td>1</td>\n",
       "      <td>0023272</td>\n",
       "      <td>JONES/LA</td>\n",
       "      <td>0</td>\n",
       "    </tr>\n",
       "  </tbody>\n",
       "</table>\n",
       "</div>"
      ],
      "text/plain": [
       "    0     1    2                3             4             5           6  7  \\\n",
       "0   3  6505  113  000400000003000  00    F55KT2  WHISPERWHITE  P8EA        1   \n",
       "1   4  8101  002  000400000004000  22    615CZ4  SPEARMI       S           1   \n",
       "2   5  7307  003  000400000005000  7LBS  245-01  34 SILVER     KING        1   \n",
       "3   8  3404  00B  000400000008000  622   F05H84  MORNING MI    2T          1   \n",
       "4  15  2301  004  000400000015000  126   MDU461  255CAMEL      12          1   \n",
       "\n",
       "         8          9 10  \n",
       "0  5119207  TURNBURY   0  \n",
       "1  3311144  C A SPOR   0  \n",
       "2  5510554  BEAU IDE   0  \n",
       "3  2912827  HARTSTRI   0  \n",
       "4  0023272  JONES/LA   0  "
      ]
     },
     "execution_count": 9,
     "metadata": {},
     "output_type": "execute_result"
    }
   ],
   "source": [
    "df.head()"
   ]
  },
  {
   "cell_type": "code",
   "execution_count": 10,
   "metadata": {},
   "outputs": [],
   "source": [
    "# Transform data type of columns\n",
    "df[0] = df[0].astype(int)\n",
    "df[1] = df[1].astype(int)\n",
    "df[7] = df[7].astype(int)\n",
    "\n",
    "def strp(x):\n",
    "    return x.strip()\n",
    "\n",
    "# Remove the whitespaces\n",
    "for i, v in enumerate(df.dtypes):\n",
    "    if v not in [\"int32\", \"int64\"]:\n",
    "        df[i] = df[i].apply(strp)"
   ]
  },
  {
   "cell_type": "code",
   "execution_count": 12,
   "metadata": {},
   "outputs": [],
   "source": [
    "# Rename columns\n",
    "df.rename(columns = {0: \"SKU\", 1: \"DEPT\", 2: \"CLASSID\", 3: \"UPC\", 4: \"STYLE\", 5: \"COLOR\", \n",
    "                      6: \"SIZE\", 7: \"PACKSIZE\", 8: \"VENDOR\", 9: \"BRAND\"}, inplace = True)"
   ]
  },
  {
   "cell_type": "code",
   "execution_count": null,
   "metadata": {},
   "outputs": [],
   "source": [
    "# Transform data type of columns\n",
    "skuinfo[\"DEPT\"] = skuinfo[\"DEPT\"].astype(\"category\")\n",
    "skuinfo[\"SKU\"] = skuinfo[\"SKU\"].astype(\"category\")\n",
    "skuinfo[\"CLASSID\"] = skuinfo[\"CLASSID\"].astype(\"category\")\n",
    "skuinfo[\"UPC\"] = skuinfo[\"UPC\"].astype(\"category\")\n",
    "skuinfo[\"STYLE\"] = skuinfo[\"STYLE\"].astype(\"category\")\n",
    "skuinfo[\"COLOR\"] = skuinfo[\"COLOR\"].astype(\"category\")\n",
    "skuinfo[\"SIZE\"] = skuinfo[\"SIZE\"].astype(\"category\")\n",
    "skuinfo[\"BRAND\"] = skuinfo[\"BRAND\"].astype(\"category\")\n",
    "skuinfo[\"VENDOR\"] = skuinfo[\"VENDOR\"].astype(\"category\")"
   ]
  },
  {
   "cell_type": "code",
   "execution_count": 14,
   "metadata": {},
   "outputs": [],
   "source": [
    "# Drop the last column which is not present in the database schema\n",
    "df.drop(10, axis = 1, inplace = True)"
   ]
  },
  {
   "cell_type": "code",
   "execution_count": 16,
   "metadata": {},
   "outputs": [],
   "source": [
    "# Save cleaned skuinfo data to a new csv file\n",
    "df.to_csv(\"skuinfo2.csv\", index = False)"
   ]
  },
  {
   "cell_type": "markdown",
   "metadata": {},
   "source": [
    "## Preprocessing Deptinfo"
   ]
  },
  {
   "cell_type": "code",
   "execution_count": 4,
   "metadata": {},
   "outputs": [
    {
     "name": "stderr",
     "output_type": "stream",
     "text": [
      "/Users/wangyifei/opt/anaconda3/lib/python3.7/site-packages/ipykernel_launcher.py:1: ParserWarning: Falling back to the 'python' engine because the 'c' engine does not support regex separators (separators > 1 char and different from '\\s+' are interpreted as regex); you can avoid this warning by specifying engine='python'.\n",
      "  \"\"\"Entry point for launching an IPython kernel.\n"
     ]
    }
   ],
   "source": [
    "deptinfo = pd.read_csv(\"deptinfo.csv\", sep = \"delimieter\", header = None)"
   ]
  },
  {
   "cell_type": "code",
   "execution_count": 5,
   "metadata": {},
   "outputs": [
    {
     "data": {
      "text/html": [
       "<div>\n",
       "<style scoped>\n",
       "    .dataframe tbody tr th:only-of-type {\n",
       "        vertical-align: middle;\n",
       "    }\n",
       "\n",
       "    .dataframe tbody tr th {\n",
       "        vertical-align: top;\n",
       "    }\n",
       "\n",
       "    .dataframe thead th {\n",
       "        text-align: right;\n",
       "    }\n",
       "</style>\n",
       "<table border=\"1\" class=\"dataframe\">\n",
       "  <thead>\n",
       "    <tr style=\"text-align: right;\">\n",
       "      <th></th>\n",
       "      <th>0</th>\n",
       "      <th>1</th>\n",
       "      <th>2</th>\n",
       "    </tr>\n",
       "  </thead>\n",
       "  <tbody>\n",
       "    <tr>\n",
       "      <th>0</th>\n",
       "      <td>800</td>\n",
       "      <td>CLINIQUE</td>\n",
       "      <td>0</td>\n",
       "    </tr>\n",
       "    <tr>\n",
       "      <th>1</th>\n",
       "      <td>801</td>\n",
       "      <td>LESLIE</td>\n",
       "      <td>0</td>\n",
       "    </tr>\n",
       "    <tr>\n",
       "      <th>2</th>\n",
       "      <td>1100</td>\n",
       "      <td>GARY F</td>\n",
       "      <td>0</td>\n",
       "    </tr>\n",
       "    <tr>\n",
       "      <th>3</th>\n",
       "      <td>1107</td>\n",
       "      <td>JACQUES</td>\n",
       "      <td>0</td>\n",
       "    </tr>\n",
       "    <tr>\n",
       "      <th>4</th>\n",
       "      <td>1202</td>\n",
       "      <td>CABERN</td>\n",
       "      <td>0</td>\n",
       "    </tr>\n",
       "  </tbody>\n",
       "</table>\n",
       "</div>"
      ],
      "text/plain": [
       "      0         1  2\n",
       "0   800  CLINIQUE  0\n",
       "1   801  LESLIE    0\n",
       "2  1100  GARY F    0\n",
       "3  1107  JACQUES   0\n",
       "4  1202  CABERN    0"
      ]
     },
     "execution_count": 5,
     "metadata": {},
     "output_type": "execute_result"
    }
   ],
   "source": [
    "# Split comma-seperated values into columns\n",
    "deptinfo = deptinfo[0].str.split(\",\", expand = True)\n",
    "deptinfo.head()"
   ]
  },
  {
   "cell_type": "code",
   "execution_count": 6,
   "metadata": {},
   "outputs": [],
   "source": [
    "# Rename columns\n",
    "deptinfo.rename(columns = {0: \"DEPT\", 1: \"DEPTDESC\",2:\"DEPT2\"}, inplace = True)"
   ]
  },
  {
   "cell_type": "code",
   "execution_count": 8,
   "metadata": {},
   "outputs": [],
   "source": [
    "# Drop the last column which is not present in the database schema\n",
    "deptinfo.drop([\"DEPT2\"],axis=1,inplace=True)"
   ]
  },
  {
   "cell_type": "code",
   "execution_count": null,
   "metadata": {},
   "outputs": [],
   "source": [
    "# Transform data type of columns\n",
    "deptinfo[\"DEPT\"] = deptinfo[\"DEPT\"].astype(\"category\")\n",
    "deptinfo[\"DEPTDESC\"] = deptinfo[\"DEPTDESC\"].astype(\"category\")"
   ]
  },
  {
   "cell_type": "code",
   "execution_count": 9,
   "metadata": {
    "scrolled": true
   },
   "outputs": [
    {
     "data": {
      "text/html": [
       "<div>\n",
       "<style scoped>\n",
       "    .dataframe tbody tr th:only-of-type {\n",
       "        vertical-align: middle;\n",
       "    }\n",
       "\n",
       "    .dataframe tbody tr th {\n",
       "        vertical-align: top;\n",
       "    }\n",
       "\n",
       "    .dataframe thead th {\n",
       "        text-align: right;\n",
       "    }\n",
       "</style>\n",
       "<table border=\"1\" class=\"dataframe\">\n",
       "  <thead>\n",
       "    <tr style=\"text-align: right;\">\n",
       "      <th></th>\n",
       "      <th>DEPT</th>\n",
       "      <th>DEPTDESC</th>\n",
       "    </tr>\n",
       "  </thead>\n",
       "  <tbody>\n",
       "    <tr>\n",
       "      <th>0</th>\n",
       "      <td>800</td>\n",
       "      <td>CLINIQUE</td>\n",
       "    </tr>\n",
       "    <tr>\n",
       "      <th>1</th>\n",
       "      <td>801</td>\n",
       "      <td>LESLIE</td>\n",
       "    </tr>\n",
       "    <tr>\n",
       "      <th>2</th>\n",
       "      <td>1100</td>\n",
       "      <td>GARY F</td>\n",
       "    </tr>\n",
       "    <tr>\n",
       "      <th>3</th>\n",
       "      <td>1107</td>\n",
       "      <td>JACQUES</td>\n",
       "    </tr>\n",
       "    <tr>\n",
       "      <th>4</th>\n",
       "      <td>1202</td>\n",
       "      <td>CABERN</td>\n",
       "    </tr>\n",
       "  </tbody>\n",
       "</table>\n",
       "</div>"
      ],
      "text/plain": [
       "   DEPT  DEPTDESC\n",
       "0   800  CLINIQUE\n",
       "1   801  LESLIE  \n",
       "2  1100  GARY F  \n",
       "3  1107  JACQUES \n",
       "4  1202  CABERN  "
      ]
     },
     "execution_count": 9,
     "metadata": {},
     "output_type": "execute_result"
    }
   ],
   "source": [
    "deptinfo.head()"
   ]
  },
  {
   "cell_type": "code",
   "execution_count": 10,
   "metadata": {},
   "outputs": [],
   "source": [
    "# Save cleaned skuinfo data to a new csv file\n",
    "deptinfo.to_csv(\"deptinfo2.csv\", index = False)"
   ]
  },
  {
   "cell_type": "markdown",
   "metadata": {},
   "source": [
    "## Preprocessing TRNSACT"
   ]
  },
  {
   "cell_type": "code",
   "execution_count": 55,
   "metadata": {
    "scrolled": false
   },
   "outputs": [
    {
     "data": {
      "text/html": [
       "<div>\n",
       "<style scoped>\n",
       "    .dataframe tbody tr th:only-of-type {\n",
       "        vertical-align: middle;\n",
       "    }\n",
       "\n",
       "    .dataframe tbody tr th {\n",
       "        vertical-align: top;\n",
       "    }\n",
       "\n",
       "    .dataframe thead th {\n",
       "        text-align: right;\n",
       "    }\n",
       "</style>\n",
       "<table border=\"1\" class=\"dataframe\">\n",
       "  <thead>\n",
       "    <tr style=\"text-align: right;\">\n",
       "      <th></th>\n",
       "      <th>0</th>\n",
       "      <th>1</th>\n",
       "      <th>2</th>\n",
       "      <th>3</th>\n",
       "      <th>4</th>\n",
       "      <th>5</th>\n",
       "      <th>6</th>\n",
       "      <th>7</th>\n",
       "      <th>8</th>\n",
       "      <th>9</th>\n",
       "      <th>10</th>\n",
       "      <th>11</th>\n",
       "      <th>12</th>\n",
       "      <th>13</th>\n",
       "    </tr>\n",
       "  </thead>\n",
       "  <tbody>\n",
       "    <tr>\n",
       "      <th>0</th>\n",
       "      <td>3</td>\n",
       "      <td>202</td>\n",
       "      <td>290</td>\n",
       "      <td>01100</td>\n",
       "      <td>326708721</td>\n",
       "      <td>2005-01-18</td>\n",
       "      <td>P</td>\n",
       "      <td>1</td>\n",
       "      <td>.00</td>\n",
       "      <td>30.00</td>\n",
       "      <td>30.00</td>\n",
       "      <td>003500000</td>\n",
       "      <td>818</td>\n",
       "      <td>0</td>\n",
       "    </tr>\n",
       "    <tr>\n",
       "      <th>1</th>\n",
       "      <td>3</td>\n",
       "      <td>202</td>\n",
       "      <td>540</td>\n",
       "      <td>02700</td>\n",
       "      <td>326708721</td>\n",
       "      <td>2005-01-29</td>\n",
       "      <td>R</td>\n",
       "      <td>1</td>\n",
       "      <td>.00</td>\n",
       "      <td>30.00</td>\n",
       "      <td>30.00</td>\n",
       "      <td>015200000</td>\n",
       "      <td>818</td>\n",
       "      <td>0</td>\n",
       "    </tr>\n",
       "    <tr>\n",
       "      <th>2</th>\n",
       "      <td>3</td>\n",
       "      <td>303</td>\n",
       "      <td>500</td>\n",
       "      <td>02100</td>\n",
       "      <td>023702074</td>\n",
       "      <td>2004-08-18</td>\n",
       "      <td>P</td>\n",
       "      <td>1</td>\n",
       "      <td>.00</td>\n",
       "      <td>12.00</td>\n",
       "      <td>12.00</td>\n",
       "      <td>004600000</td>\n",
       "      <td>048</td>\n",
       "      <td>0</td>\n",
       "    </tr>\n",
       "    <tr>\n",
       "      <th>3</th>\n",
       "      <td>3</td>\n",
       "      <td>709</td>\n",
       "      <td>360</td>\n",
       "      <td>00500</td>\n",
       "      <td>000000000</td>\n",
       "      <td>2005-08-14</td>\n",
       "      <td>P</td>\n",
       "      <td>1</td>\n",
       "      <td>.00</td>\n",
       "      <td>30.00</td>\n",
       "      <td>30.00</td>\n",
       "      <td>006500000</td>\n",
       "      <td>818</td>\n",
       "      <td>0</td>\n",
       "    </tr>\n",
       "    <tr>\n",
       "      <th>4</th>\n",
       "      <td>3</td>\n",
       "      <td>802</td>\n",
       "      <td>660</td>\n",
       "      <td>00400</td>\n",
       "      <td>000000000</td>\n",
       "      <td>2005-08-09</td>\n",
       "      <td>P</td>\n",
       "      <td>1</td>\n",
       "      <td>440.00</td>\n",
       "      <td>30.00</td>\n",
       "      <td>30.00</td>\n",
       "      <td>004700000</td>\n",
       "      <td>599</td>\n",
       "      <td>0</td>\n",
       "    </tr>\n",
       "  </tbody>\n",
       "</table>\n",
       "</div>"
      ],
      "text/plain": [
       "  0    1    2      3          4           5  6  7       8      9      10  \\\n",
       "0  3  202  290  01100  326708721  2005-01-18  P  1     .00  30.00  30.00   \n",
       "1  3  202  540  02700  326708721  2005-01-29  R  1     .00  30.00  30.00   \n",
       "2  3  303  500  02100  023702074  2004-08-18  P  1     .00  12.00  12.00   \n",
       "3  3  709  360  00500  000000000  2005-08-14  P  1     .00  30.00  30.00   \n",
       "4  3  802  660  00400  000000000  2005-08-09  P  1  440.00  30.00  30.00   \n",
       "\n",
       "          11               12 13  \n",
       "0  003500000  818              0  \n",
       "1  015200000  818              0  \n",
       "2  004600000  048              0  \n",
       "3  006500000  818              0  \n",
       "4  004700000  599              0  "
      ]
     },
     "execution_count": 55,
     "metadata": {},
     "output_type": "execute_result"
    }
   ],
   "source": [
    "# Split comma-seperated values into columns\n",
    "trnsact = pd.read_csv(\"trnsact.csv\", sep = \",\", dtype=\"category\", header = None)\n",
    "trnsact.head()"
   ]
  },
  {
   "cell_type": "code",
   "execution_count": 75,
   "metadata": {},
   "outputs": [],
   "source": [
    "# Rename columns\n",
    "trnsact.rename(columns = {0: \"SKU\", 1: \"STORE\",2:\"REGISTER\", 3:\"TRANNUM\", 5:\"SALEDATE\", 4:\"SEQ\", \n",
    "                         11:\"INTERID\", 6:\"STYPE\", 8:\"ORGPRICE\", 9:\"AMT\", 10:\"AMT2\", 12:\"MIC\",\n",
    "                          7:\"QUANTITY\", 13:\"Unknown\"}, inplace = True)"
   ]
  },
  {
   "cell_type": "code",
   "execution_count": 78,
   "metadata": {},
   "outputs": [],
   "source": [
    "# Drop the Unknown column, which is not present in dataset schema\n",
    "trnsact.drop([\"Unknown\"],axis=1,inplace=True)"
   ]
  },
  {
   "cell_type": "code",
   "execution_count": 81,
   "metadata": {},
   "outputs": [],
   "source": [
    "# Transform data type of columns \n",
    "trnsact[\"QUANTITY\"] = trnsact[\"QUANTITY\"].astype(\"int\")"
   ]
  },
  {
   "cell_type": "code",
   "execution_count": 82,
   "metadata": {},
   "outputs": [],
   "source": [
    "# Transform data type of columns\n",
    "trnsact[\"AMT\"] = trnsact[\"AMT\"].astype(\"float\")\n",
    "trnsact[\"AMT2\"] = trnsact[\"AMT2\"].astype(\"float\")\n",
    "trnsact[\"ORGPRICE\"] = trnsact[\"ORGPRICE\"].astype(\"float\")"
   ]
  },
  {
   "cell_type": "code",
   "execution_count": 87,
   "metadata": {},
   "outputs": [],
   "source": [
    "# Transform data type of columns\n",
    "trnsact['SALEDATE'] =  pd.to_datetime(trnsact['SALEDATE'], infer_datetime_format=True)"
   ]
  },
  {
   "cell_type": "code",
   "execution_count": 88,
   "metadata": {},
   "outputs": [
    {
     "data": {
      "text/html": [
       "<div>\n",
       "<style scoped>\n",
       "    .dataframe tbody tr th:only-of-type {\n",
       "        vertical-align: middle;\n",
       "    }\n",
       "\n",
       "    .dataframe tbody tr th {\n",
       "        vertical-align: top;\n",
       "    }\n",
       "\n",
       "    .dataframe thead th {\n",
       "        text-align: right;\n",
       "    }\n",
       "</style>\n",
       "<table border=\"1\" class=\"dataframe\">\n",
       "  <thead>\n",
       "    <tr style=\"text-align: right;\">\n",
       "      <th></th>\n",
       "      <th>SKU</th>\n",
       "      <th>STORE</th>\n",
       "      <th>REGISTER</th>\n",
       "      <th>TRANNUM</th>\n",
       "      <th>SEQ</th>\n",
       "      <th>SALEDATE</th>\n",
       "      <th>STYPE</th>\n",
       "      <th>QUANTITY</th>\n",
       "      <th>ORGPRICE</th>\n",
       "      <th>AMT</th>\n",
       "      <th>AMT2</th>\n",
       "      <th>INTERID</th>\n",
       "      <th>MIC</th>\n",
       "    </tr>\n",
       "  </thead>\n",
       "  <tbody>\n",
       "    <tr>\n",
       "      <th>0</th>\n",
       "      <td>3</td>\n",
       "      <td>202</td>\n",
       "      <td>290</td>\n",
       "      <td>01100</td>\n",
       "      <td>326708721</td>\n",
       "      <td>2005-01-18</td>\n",
       "      <td>P</td>\n",
       "      <td>1</td>\n",
       "      <td>0.0</td>\n",
       "      <td>30.0</td>\n",
       "      <td>30.0</td>\n",
       "      <td>003500000</td>\n",
       "      <td>818</td>\n",
       "    </tr>\n",
       "    <tr>\n",
       "      <th>1</th>\n",
       "      <td>3</td>\n",
       "      <td>202</td>\n",
       "      <td>540</td>\n",
       "      <td>02700</td>\n",
       "      <td>326708721</td>\n",
       "      <td>2005-01-29</td>\n",
       "      <td>R</td>\n",
       "      <td>1</td>\n",
       "      <td>0.0</td>\n",
       "      <td>30.0</td>\n",
       "      <td>30.0</td>\n",
       "      <td>015200000</td>\n",
       "      <td>818</td>\n",
       "    </tr>\n",
       "    <tr>\n",
       "      <th>2</th>\n",
       "      <td>3</td>\n",
       "      <td>303</td>\n",
       "      <td>500</td>\n",
       "      <td>02100</td>\n",
       "      <td>023702074</td>\n",
       "      <td>2004-08-18</td>\n",
       "      <td>P</td>\n",
       "      <td>1</td>\n",
       "      <td>0.0</td>\n",
       "      <td>12.0</td>\n",
       "      <td>12.0</td>\n",
       "      <td>004600000</td>\n",
       "      <td>048</td>\n",
       "    </tr>\n",
       "    <tr>\n",
       "      <th>3</th>\n",
       "      <td>3</td>\n",
       "      <td>709</td>\n",
       "      <td>360</td>\n",
       "      <td>00500</td>\n",
       "      <td>000000000</td>\n",
       "      <td>2005-08-14</td>\n",
       "      <td>P</td>\n",
       "      <td>1</td>\n",
       "      <td>0.0</td>\n",
       "      <td>30.0</td>\n",
       "      <td>30.0</td>\n",
       "      <td>006500000</td>\n",
       "      <td>818</td>\n",
       "    </tr>\n",
       "    <tr>\n",
       "      <th>4</th>\n",
       "      <td>3</td>\n",
       "      <td>802</td>\n",
       "      <td>660</td>\n",
       "      <td>00400</td>\n",
       "      <td>000000000</td>\n",
       "      <td>2005-08-09</td>\n",
       "      <td>P</td>\n",
       "      <td>1</td>\n",
       "      <td>440.0</td>\n",
       "      <td>30.0</td>\n",
       "      <td>30.0</td>\n",
       "      <td>004700000</td>\n",
       "      <td>599</td>\n",
       "    </tr>\n",
       "  </tbody>\n",
       "</table>\n",
       "</div>"
      ],
      "text/plain": [
       "  SKU STORE REGISTER TRANNUM        SEQ   SALEDATE STYPE  QUANTITY  ORGPRICE  \\\n",
       "0   3   202      290   01100  326708721 2005-01-18     P         1       0.0   \n",
       "1   3   202      540   02700  326708721 2005-01-29     R         1       0.0   \n",
       "2   3   303      500   02100  023702074 2004-08-18     P         1       0.0   \n",
       "3   3   709      360   00500  000000000 2005-08-14     P         1       0.0   \n",
       "4   3   802      660   00400  000000000 2005-08-09     P         1     440.0   \n",
       "\n",
       "    AMT  AMT2    INTERID              MIC  \n",
       "0  30.0  30.0  003500000  818              \n",
       "1  30.0  30.0  015200000  818              \n",
       "2  12.0  12.0  004600000  048              \n",
       "3  30.0  30.0  006500000  818              \n",
       "4  30.0  30.0  004700000  599              "
      ]
     },
     "execution_count": 88,
     "metadata": {},
     "output_type": "execute_result"
    }
   ],
   "source": [
    "trnsact.head(5)"
   ]
  },
  {
   "cell_type": "code",
   "execution_count": null,
   "metadata": {},
   "outputs": [],
   "source": [
    "# Save cleaned skuinfo data to a new csv file\n",
    "trnsact.to_csv(\"trnsact2.csv\", index = False)"
   ]
  },
  {
   "cell_type": "markdown",
   "metadata": {},
   "source": [
    "## Preprocessing SKSTINFO"
   ]
  },
  {
   "cell_type": "code",
   "execution_count": 13,
   "metadata": {},
   "outputs": [
    {
     "name": "stderr",
     "output_type": "stream",
     "text": [
      "/Users/wangyifei/opt/anaconda3/lib/python3.7/site-packages/ipykernel_launcher.py:1: ParserWarning: Falling back to the 'python' engine because the 'c' engine does not support regex separators (separators > 1 char and different from '\\s+' are interpreted as regex); you can avoid this warning by specifying engine='python'.\n",
      "  \"\"\"Entry point for launching an IPython kernel.\n"
     ]
    },
    {
     "data": {
      "text/html": [
       "<div>\n",
       "<style scoped>\n",
       "    .dataframe tbody tr th:only-of-type {\n",
       "        vertical-align: middle;\n",
       "    }\n",
       "\n",
       "    .dataframe tbody tr th {\n",
       "        vertical-align: top;\n",
       "    }\n",
       "\n",
       "    .dataframe thead th {\n",
       "        text-align: right;\n",
       "    }\n",
       "</style>\n",
       "<table border=\"1\" class=\"dataframe\">\n",
       "  <thead>\n",
       "    <tr style=\"text-align: right;\">\n",
       "      <th></th>\n",
       "      <th>0</th>\n",
       "    </tr>\n",
       "  </thead>\n",
       "  <tbody>\n",
       "    <tr>\n",
       "      <th>0</th>\n",
       "      <td>3,102,123.36,440.00,0</td>\n",
       "    </tr>\n",
       "    <tr>\n",
       "      <th>1</th>\n",
       "      <td>3,103,123.36,440.00,0</td>\n",
       "    </tr>\n",
       "    <tr>\n",
       "      <th>2</th>\n",
       "      <td>3,104,123.36,440.00,0</td>\n",
       "    </tr>\n",
       "    <tr>\n",
       "      <th>3</th>\n",
       "      <td>3,202,123.36,440.00,0</td>\n",
       "    </tr>\n",
       "    <tr>\n",
       "      <th>4</th>\n",
       "      <td>3,203,123.36,440.00,0</td>\n",
       "    </tr>\n",
       "  </tbody>\n",
       "</table>\n",
       "</div>"
      ],
      "text/plain": [
       "                       0\n",
       "0  3,102,123.36,440.00,0\n",
       "1  3,103,123.36,440.00,0\n",
       "2  3,104,123.36,440.00,0\n",
       "3  3,202,123.36,440.00,0\n",
       "4  3,203,123.36,440.00,0"
      ]
     },
     "execution_count": 13,
     "metadata": {},
     "output_type": "execute_result"
    }
   ],
   "source": [
    "skstinfo = pd.read_csv(\"skstinfo.csv\", sep = \"delimieter\", header = None)\n",
    "skstinfo.head()"
   ]
  },
  {
   "cell_type": "code",
   "execution_count": 14,
   "metadata": {
    "scrolled": true
   },
   "outputs": [
    {
     "data": {
      "text/html": [
       "<div>\n",
       "<style scoped>\n",
       "    .dataframe tbody tr th:only-of-type {\n",
       "        vertical-align: middle;\n",
       "    }\n",
       "\n",
       "    .dataframe tbody tr th {\n",
       "        vertical-align: top;\n",
       "    }\n",
       "\n",
       "    .dataframe thead th {\n",
       "        text-align: right;\n",
       "    }\n",
       "</style>\n",
       "<table border=\"1\" class=\"dataframe\">\n",
       "  <thead>\n",
       "    <tr style=\"text-align: right;\">\n",
       "      <th></th>\n",
       "      <th>0</th>\n",
       "      <th>1</th>\n",
       "      <th>2</th>\n",
       "      <th>3</th>\n",
       "      <th>4</th>\n",
       "    </tr>\n",
       "  </thead>\n",
       "  <tbody>\n",
       "    <tr>\n",
       "      <th>0</th>\n",
       "      <td>3</td>\n",
       "      <td>102</td>\n",
       "      <td>123.36</td>\n",
       "      <td>440.00</td>\n",
       "      <td>0</td>\n",
       "    </tr>\n",
       "    <tr>\n",
       "      <th>1</th>\n",
       "      <td>3</td>\n",
       "      <td>103</td>\n",
       "      <td>123.36</td>\n",
       "      <td>440.00</td>\n",
       "      <td>0</td>\n",
       "    </tr>\n",
       "    <tr>\n",
       "      <th>2</th>\n",
       "      <td>3</td>\n",
       "      <td>104</td>\n",
       "      <td>123.36</td>\n",
       "      <td>440.00</td>\n",
       "      <td>0</td>\n",
       "    </tr>\n",
       "    <tr>\n",
       "      <th>3</th>\n",
       "      <td>3</td>\n",
       "      <td>202</td>\n",
       "      <td>123.36</td>\n",
       "      <td>440.00</td>\n",
       "      <td>0</td>\n",
       "    </tr>\n",
       "    <tr>\n",
       "      <th>4</th>\n",
       "      <td>3</td>\n",
       "      <td>203</td>\n",
       "      <td>123.36</td>\n",
       "      <td>440.00</td>\n",
       "      <td>0</td>\n",
       "    </tr>\n",
       "  </tbody>\n",
       "</table>\n",
       "</div>"
      ],
      "text/plain": [
       "   0    1       2       3  4\n",
       "0  3  102  123.36  440.00  0\n",
       "1  3  103  123.36  440.00  0\n",
       "2  3  104  123.36  440.00  0\n",
       "3  3  202  123.36  440.00  0\n",
       "4  3  203  123.36  440.00  0"
      ]
     },
     "execution_count": 14,
     "metadata": {},
     "output_type": "execute_result"
    }
   ],
   "source": [
    "# Split comma-seperated values into columns\n",
    "skstinfo = skstinfo[0].str.split(\",\", expand = True)\n",
    "skstinfo.head()"
   ]
  },
  {
   "cell_type": "code",
   "execution_count": 15,
   "metadata": {},
   "outputs": [],
   "source": [
    "# Rename columns\n",
    "skstinfo.rename(columns = {0: \"SKU\", 1: \"STORE\",2:\"COST\",3:\"RETAIL\", 4:\"Unknown\"}, inplace = True)"
   ]
  },
  {
   "cell_type": "code",
   "execution_count": 16,
   "metadata": {},
   "outputs": [],
   "source": [
    "# Drop the Unknown column, which is not present in the database schema\n",
    "skstinfo.drop([\"Unknown\"],axis=1,inplace=True)"
   ]
  },
  {
   "cell_type": "code",
   "execution_count": 18,
   "metadata": {},
   "outputs": [],
   "source": [
    "# Transform data type of columns\n",
    "skstinfo[\"COST\"] = skstinfo[\"COST\"].astype(float)\n",
    "skstinfo[\"RETAIL\"] = skstinfo[\"RETAIL\"].astype(float)\n",
    "skstinfo[\"STORE\"] = skstinfo[\"STORE\"].astype(\"category\")\n",
    "skstinfo[\"SKU\"] = skstinfo[\"SKU\"].astype(\"category\")"
   ]
  },
  {
   "cell_type": "code",
   "execution_count": 19,
   "metadata": {},
   "outputs": [],
   "source": [
    "# Save cleaned skuinfo data to a new csv file\n",
    "skstinfo.to_csv(\"skstinfo2.csv\", index = False)"
   ]
  },
  {
   "cell_type": "markdown",
   "metadata": {},
   "source": [
    "## Preprocessing STRINFO"
   ]
  },
  {
   "cell_type": "code",
   "execution_count": 29,
   "metadata": {},
   "outputs": [
    {
     "name": "stderr",
     "output_type": "stream",
     "text": [
      "/Users/wangyifei/opt/anaconda3/lib/python3.7/site-packages/ipykernel_launcher.py:1: ParserWarning: Falling back to the 'python' engine because the 'c' engine does not support regex separators (separators > 1 char and different from '\\s+' are interpreted as regex); you can avoid this warning by specifying engine='python'.\n",
      "  \"\"\"Entry point for launching an IPython kernel.\n"
     ]
    },
    {
     "data": {
      "text/html": [
       "<div>\n",
       "<style scoped>\n",
       "    .dataframe tbody tr th:only-of-type {\n",
       "        vertical-align: middle;\n",
       "    }\n",
       "\n",
       "    .dataframe tbody tr th {\n",
       "        vertical-align: top;\n",
       "    }\n",
       "\n",
       "    .dataframe thead th {\n",
       "        text-align: right;\n",
       "    }\n",
       "</style>\n",
       "<table border=\"1\" class=\"dataframe\">\n",
       "  <thead>\n",
       "    <tr style=\"text-align: right;\">\n",
       "      <th></th>\n",
       "      <th>0</th>\n",
       "    </tr>\n",
       "  </thead>\n",
       "  <tbody>\n",
       "    <tr>\n",
       "      <th>0</th>\n",
       "      <td>2,ST. PETERSBURG      ,FL,33710,0</td>\n",
       "    </tr>\n",
       "    <tr>\n",
       "      <th>1</th>\n",
       "      <td>3,ST. LOUIS           ,MO,63126,0</td>\n",
       "    </tr>\n",
       "    <tr>\n",
       "      <th>2</th>\n",
       "      <td>4,LITTLE ROCK         ,AR,72201,0</td>\n",
       "    </tr>\n",
       "    <tr>\n",
       "      <th>3</th>\n",
       "      <td>7,FORT WORTH          ,TX,76137,0</td>\n",
       "    </tr>\n",
       "    <tr>\n",
       "      <th>4</th>\n",
       "      <td>9,TEMPE               ,AZ,85281,0</td>\n",
       "    </tr>\n",
       "  </tbody>\n",
       "</table>\n",
       "</div>"
      ],
      "text/plain": [
       "                                   0\n",
       "0  2,ST. PETERSBURG      ,FL,33710,0\n",
       "1  3,ST. LOUIS           ,MO,63126,0\n",
       "2  4,LITTLE ROCK         ,AR,72201,0\n",
       "3  7,FORT WORTH          ,TX,76137,0\n",
       "4  9,TEMPE               ,AZ,85281,0"
      ]
     },
     "execution_count": 29,
     "metadata": {},
     "output_type": "execute_result"
    }
   ],
   "source": [
    "strinfo = pd.read_csv(\"strinfo.csv\", sep = \"delimieter\", header = None)\n",
    "strinfo.head()"
   ]
  },
  {
   "cell_type": "code",
   "execution_count": 30,
   "metadata": {
    "scrolled": false
   },
   "outputs": [
    {
     "data": {
      "text/html": [
       "<div>\n",
       "<style scoped>\n",
       "    .dataframe tbody tr th:only-of-type {\n",
       "        vertical-align: middle;\n",
       "    }\n",
       "\n",
       "    .dataframe tbody tr th {\n",
       "        vertical-align: top;\n",
       "    }\n",
       "\n",
       "    .dataframe thead th {\n",
       "        text-align: right;\n",
       "    }\n",
       "</style>\n",
       "<table border=\"1\" class=\"dataframe\">\n",
       "  <thead>\n",
       "    <tr style=\"text-align: right;\">\n",
       "      <th></th>\n",
       "      <th>0</th>\n",
       "      <th>1</th>\n",
       "      <th>2</th>\n",
       "      <th>3</th>\n",
       "      <th>4</th>\n",
       "    </tr>\n",
       "  </thead>\n",
       "  <tbody>\n",
       "    <tr>\n",
       "      <th>0</th>\n",
       "      <td>2</td>\n",
       "      <td>ST. PETERSBURG</td>\n",
       "      <td>FL</td>\n",
       "      <td>33710</td>\n",
       "      <td>0</td>\n",
       "    </tr>\n",
       "    <tr>\n",
       "      <th>1</th>\n",
       "      <td>3</td>\n",
       "      <td>ST. LOUIS</td>\n",
       "      <td>MO</td>\n",
       "      <td>63126</td>\n",
       "      <td>0</td>\n",
       "    </tr>\n",
       "    <tr>\n",
       "      <th>2</th>\n",
       "      <td>4</td>\n",
       "      <td>LITTLE ROCK</td>\n",
       "      <td>AR</td>\n",
       "      <td>72201</td>\n",
       "      <td>0</td>\n",
       "    </tr>\n",
       "    <tr>\n",
       "      <th>3</th>\n",
       "      <td>7</td>\n",
       "      <td>FORT WORTH</td>\n",
       "      <td>TX</td>\n",
       "      <td>76137</td>\n",
       "      <td>0</td>\n",
       "    </tr>\n",
       "    <tr>\n",
       "      <th>4</th>\n",
       "      <td>9</td>\n",
       "      <td>TEMPE</td>\n",
       "      <td>AZ</td>\n",
       "      <td>85281</td>\n",
       "      <td>0</td>\n",
       "    </tr>\n",
       "  </tbody>\n",
       "</table>\n",
       "</div>"
      ],
      "text/plain": [
       "   0                     1   2      3  4\n",
       "0  2  ST. PETERSBURG        FL  33710  0\n",
       "1  3  ST. LOUIS             MO  63126  0\n",
       "2  4  LITTLE ROCK           AR  72201  0\n",
       "3  7  FORT WORTH            TX  76137  0\n",
       "4  9  TEMPE                 AZ  85281  0"
      ]
     },
     "execution_count": 30,
     "metadata": {},
     "output_type": "execute_result"
    }
   ],
   "source": [
    "# Split comma-seperated values into columns\n",
    "strinfo = strinfo[0].str.split(\",\", expand = True)\n",
    "strinfo.head()"
   ]
  },
  {
   "cell_type": "code",
   "execution_count": 31,
   "metadata": {},
   "outputs": [],
   "source": [
    "# Rename columns\n",
    "strinfo.rename(columns = {0: \"STORE\", 1: \"CITY\",2:\"STATE\",3:\"ZIP\",4:\"unknown\"}, inplace = True)"
   ]
  },
  {
   "cell_type": "code",
   "execution_count": 32,
   "metadata": {},
   "outputs": [],
   "source": [
    "# Transform data type of column\n",
    "strinfo[\"STORE\"] = strinfo[\"STORE\"].astype(\"category\")\n",
    "strinfo[\"ZIP\"] = strinfo[\"ZIP\"].astype(\"category\")\n",
    "strinfo[\"CITY\"] = strinfo[\"CITY\"].astype(\"category\")\n",
    "strinfo[\"STATE\"] = strinfo[\"STATE\"].astype(\"category\")"
   ]
  },
  {
   "cell_type": "code",
   "execution_count": 34,
   "metadata": {},
   "outputs": [],
   "source": [
    "# Drop the Unknown column, which is not present in the database schema\n",
    "strinfo.drop([\"unknown\"],axis=1,inplace=True)"
   ]
  },
  {
   "cell_type": "code",
   "execution_count": 35,
   "metadata": {},
   "outputs": [
    {
     "data": {
      "text/html": [
       "<div>\n",
       "<style scoped>\n",
       "    .dataframe tbody tr th:only-of-type {\n",
       "        vertical-align: middle;\n",
       "    }\n",
       "\n",
       "    .dataframe tbody tr th {\n",
       "        vertical-align: top;\n",
       "    }\n",
       "\n",
       "    .dataframe thead th {\n",
       "        text-align: right;\n",
       "    }\n",
       "</style>\n",
       "<table border=\"1\" class=\"dataframe\">\n",
       "  <thead>\n",
       "    <tr style=\"text-align: right;\">\n",
       "      <th></th>\n",
       "      <th>STORE</th>\n",
       "      <th>CITY</th>\n",
       "      <th>STATE</th>\n",
       "      <th>ZIP</th>\n",
       "    </tr>\n",
       "  </thead>\n",
       "  <tbody>\n",
       "    <tr>\n",
       "      <th>0</th>\n",
       "      <td>2</td>\n",
       "      <td>ST. PETERSBURG</td>\n",
       "      <td>FL</td>\n",
       "      <td>33710</td>\n",
       "    </tr>\n",
       "    <tr>\n",
       "      <th>1</th>\n",
       "      <td>3</td>\n",
       "      <td>ST. LOUIS</td>\n",
       "      <td>MO</td>\n",
       "      <td>63126</td>\n",
       "    </tr>\n",
       "    <tr>\n",
       "      <th>2</th>\n",
       "      <td>4</td>\n",
       "      <td>LITTLE ROCK</td>\n",
       "      <td>AR</td>\n",
       "      <td>72201</td>\n",
       "    </tr>\n",
       "    <tr>\n",
       "      <th>3</th>\n",
       "      <td>7</td>\n",
       "      <td>FORT WORTH</td>\n",
       "      <td>TX</td>\n",
       "      <td>76137</td>\n",
       "    </tr>\n",
       "    <tr>\n",
       "      <th>4</th>\n",
       "      <td>9</td>\n",
       "      <td>TEMPE</td>\n",
       "      <td>AZ</td>\n",
       "      <td>85281</td>\n",
       "    </tr>\n",
       "  </tbody>\n",
       "</table>\n",
       "</div>"
      ],
      "text/plain": [
       "  STORE                  CITY STATE    ZIP\n",
       "0     2  ST. PETERSBURG          FL  33710\n",
       "1     3  ST. LOUIS               MO  63126\n",
       "2     4  LITTLE ROCK             AR  72201\n",
       "3     7  FORT WORTH              TX  76137\n",
       "4     9  TEMPE                   AZ  85281"
      ]
     },
     "execution_count": 35,
     "metadata": {},
     "output_type": "execute_result"
    }
   ],
   "source": [
    "strinfo.head()"
   ]
  },
  {
   "cell_type": "code",
   "execution_count": 36,
   "metadata": {},
   "outputs": [],
   "source": [
    "#save cleaned skuinfo data to a new csv file\n",
    "strinfo.to_csv(\"strinfo2.csv\", index = False)"
   ]
  }
 ],
 "metadata": {
  "kernelspec": {
   "display_name": "Python 3",
   "language": "python",
   "name": "python3"
  },
  "language_info": {
   "codemirror_mode": {
    "name": "ipython",
    "version": 3
   },
   "file_extension": ".py",
   "mimetype": "text/x-python",
   "name": "python",
   "nbconvert_exporter": "python",
   "pygments_lexer": "ipython3",
   "version": "3.7.6"
  }
 },
 "nbformat": 4,
 "nbformat_minor": 5
}
