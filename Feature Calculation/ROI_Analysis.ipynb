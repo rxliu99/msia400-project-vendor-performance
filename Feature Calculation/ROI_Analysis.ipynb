{
 "cells": [
  {
   "cell_type": "code",
   "execution_count": 1,
   "id": "206fcc94",
   "metadata": {},
   "outputs": [],
   "source": [
    "import pandas as pd\n",
    "pd.set_option('display.float_format', '{:.2f}'.format)\n",
    "import warnings\n",
    "warnings.filterwarnings(\"ignore\")"
   ]
  },
  {
   "cell_type": "code",
   "execution_count": 2,
   "id": "fb66f543",
   "metadata": {},
   "outputs": [],
   "source": [
    "sku = pd.read_csv(\"skuinfo2.csv\")"
   ]
  },
  {
   "cell_type": "code",
   "execution_count": 3,
   "id": "b1bcdec0",
   "metadata": {},
   "outputs": [
    {
     "data": {
      "text/plain": [
       "(1556033, 10)"
      ]
     },
     "execution_count": 3,
     "metadata": {},
     "output_type": "execute_result"
    }
   ],
   "source": [
    "skuinfo = pd.read_csv(\"skuinfo2.csv\")\n",
    "skuinfo.shape"
   ]
  },
  {
   "cell_type": "code",
   "execution_count": 4,
   "id": "3f127042",
   "metadata": {},
   "outputs": [
    {
     "data": {
      "text/html": [
       "<div>\n",
       "<style scoped>\n",
       "    .dataframe tbody tr th:only-of-type {\n",
       "        vertical-align: middle;\n",
       "    }\n",
       "\n",
       "    .dataframe tbody tr th {\n",
       "        vertical-align: top;\n",
       "    }\n",
       "\n",
       "    .dataframe thead th {\n",
       "        text-align: right;\n",
       "    }\n",
       "</style>\n",
       "<table border=\"1\" class=\"dataframe\">\n",
       "  <thead>\n",
       "    <tr style=\"text-align: right;\">\n",
       "      <th></th>\n",
       "      <th>SKU</th>\n",
       "      <th>DEPT</th>\n",
       "      <th>CLASSID</th>\n",
       "      <th>UPC</th>\n",
       "      <th>STYLE</th>\n",
       "      <th>COLOR</th>\n",
       "      <th>SIZE</th>\n",
       "      <th>PACKSIZE</th>\n",
       "      <th>VENDOR</th>\n",
       "      <th>BRAND</th>\n",
       "    </tr>\n",
       "  </thead>\n",
       "  <tbody>\n",
       "    <tr>\n",
       "      <th>0</th>\n",
       "      <td>3</td>\n",
       "      <td>6505</td>\n",
       "      <td>113</td>\n",
       "      <td>400000003000</td>\n",
       "      <td>00    F55KT2</td>\n",
       "      <td>WHISPERWHITE</td>\n",
       "      <td>P8EA</td>\n",
       "      <td>1</td>\n",
       "      <td>5119207</td>\n",
       "      <td>TURNBURY</td>\n",
       "    </tr>\n",
       "    <tr>\n",
       "      <th>1</th>\n",
       "      <td>4</td>\n",
       "      <td>8101</td>\n",
       "      <td>002</td>\n",
       "      <td>400000004000</td>\n",
       "      <td>22    615CZ4</td>\n",
       "      <td>SPEARMI</td>\n",
       "      <td>S</td>\n",
       "      <td>1</td>\n",
       "      <td>3311144</td>\n",
       "      <td>C A SPOR</td>\n",
       "    </tr>\n",
       "    <tr>\n",
       "      <th>2</th>\n",
       "      <td>5</td>\n",
       "      <td>7307</td>\n",
       "      <td>003</td>\n",
       "      <td>400000005000</td>\n",
       "      <td>7LBS  245-01</td>\n",
       "      <td>34 SILVER</td>\n",
       "      <td>KING</td>\n",
       "      <td>1</td>\n",
       "      <td>5510554</td>\n",
       "      <td>BEAU IDE</td>\n",
       "    </tr>\n",
       "    <tr>\n",
       "      <th>3</th>\n",
       "      <td>8</td>\n",
       "      <td>3404</td>\n",
       "      <td>00B</td>\n",
       "      <td>400000008000</td>\n",
       "      <td>622   F05H84</td>\n",
       "      <td>MORNING MI</td>\n",
       "      <td>2T</td>\n",
       "      <td>1</td>\n",
       "      <td>2912827</td>\n",
       "      <td>HARTSTRI</td>\n",
       "    </tr>\n",
       "    <tr>\n",
       "      <th>4</th>\n",
       "      <td>15</td>\n",
       "      <td>2301</td>\n",
       "      <td>004</td>\n",
       "      <td>400000015000</td>\n",
       "      <td>126   MDU461</td>\n",
       "      <td>255CAMEL</td>\n",
       "      <td>12</td>\n",
       "      <td>1</td>\n",
       "      <td>23272</td>\n",
       "      <td>JONES/LA</td>\n",
       "    </tr>\n",
       "  </tbody>\n",
       "</table>\n",
       "</div>"
      ],
      "text/plain": [
       "   SKU  DEPT CLASSID           UPC         STYLE         COLOR  SIZE  \\\n",
       "0    3  6505     113  400000003000  00    F55KT2  WHISPERWHITE  P8EA   \n",
       "1    4  8101     002  400000004000  22    615CZ4       SPEARMI     S   \n",
       "2    5  7307     003  400000005000  7LBS  245-01     34 SILVER  KING   \n",
       "3    8  3404     00B  400000008000  622   F05H84    MORNING MI    2T   \n",
       "4   15  2301     004  400000015000  126   MDU461      255CAMEL    12   \n",
       "\n",
       "   PACKSIZE   VENDOR     BRAND  \n",
       "0         1  5119207  TURNBURY  \n",
       "1         1  3311144  C A SPOR  \n",
       "2         1  5510554  BEAU IDE  \n",
       "3         1  2912827  HARTSTRI  \n",
       "4         1    23272  JONES/LA  "
      ]
     },
     "execution_count": 4,
     "metadata": {},
     "output_type": "execute_result"
    }
   ],
   "source": [
    "skuinfo.head()"
   ]
  },
  {
   "cell_type": "code",
   "execution_count": 5,
   "id": "e4ca21bb",
   "metadata": {},
   "outputs": [],
   "source": [
    "skstinfo = pd.read_csv(\"skstinfo.csv\", header = None, usecols = [0, 2, 3])"
   ]
  },
  {
   "cell_type": "code",
   "execution_count": 6,
   "id": "5d731c3d",
   "metadata": {},
   "outputs": [
    {
     "data": {
      "text/plain": [
       "(39230146, 3)"
      ]
     },
     "execution_count": 6,
     "metadata": {},
     "output_type": "execute_result"
    }
   ],
   "source": [
    "skstinfo.shape"
   ]
  },
  {
   "cell_type": "code",
   "execution_count": 7,
   "id": "caf3bc0f",
   "metadata": {},
   "outputs": [],
   "source": [
    "skstinfo.rename(columns = {0: \"SKU\",\n",
    "                          2: \"COST\",\n",
    "                          3: \"RETAIL\"}, inplace = True)"
   ]
  },
  {
   "cell_type": "code",
   "execution_count": 8,
   "id": "7b54ba9a",
   "metadata": {},
   "outputs": [],
   "source": [
    "trnsact = pd.read_csv(\"trnsact.csv\", header = None, usecols = [0, 3, 5, 6, 7, 9])"
   ]
  },
  {
   "cell_type": "code",
   "execution_count": 9,
   "id": "48c0e650",
   "metadata": {},
   "outputs": [],
   "source": [
    "trnsact.rename(columns = {0: \"SKU\", 3: \"TRANNUM\", 5: \"SALEDATE\", 6: \"STYPE\", 7: \"QUANTITY\", 9: \"AMT\"}, inplace = True)"
   ]
  },
  {
   "cell_type": "markdown",
   "id": "9ae7c580",
   "metadata": {},
   "source": [
    "### *Note: Since we are collecting a 10% sample from each of the necessary dataframes, each time you run the below cell, you will get a different dataset*"
   ]
  },
  {
   "cell_type": "code",
   "execution_count": 10,
   "id": "6e7f7b44",
   "metadata": {},
   "outputs": [],
   "source": [
    "# Select random 10% subsamples from original tables because the original tables are too large to perform joins\n",
    "f_transact = trnsact.sample(round(len(trnsact) * 0.10))\n",
    "f_sku = sku.sample(round(len(sku) * 0.10))\n",
    "f_skst = skstinfo.sample(round(len(skstinfo) * 0.10))"
   ]
  },
  {
   "cell_type": "code",
   "execution_count": 11,
   "id": "eed55076",
   "metadata": {},
   "outputs": [],
   "source": [
    "# Join the three subsamples on SKU\n",
    "merged_dfs = pd.merge(f_sku, f_skst, on = \"SKU\", how = \"inner\")"
   ]
  },
  {
   "cell_type": "code",
   "execution_count": 12,
   "id": "1bf1a068",
   "metadata": {},
   "outputs": [
    {
     "data": {
      "text/plain": [
       "(388439, 12)"
      ]
     },
     "execution_count": 12,
     "metadata": {},
     "output_type": "execute_result"
    }
   ],
   "source": [
    "merged_dfs.shape"
   ]
  },
  {
   "cell_type": "code",
   "execution_count": 13,
   "id": "0501580d",
   "metadata": {},
   "outputs": [],
   "source": [
    "f_merged = pd.merge(merged_dfs, f_transact, on =\"SKU\", how = \"inner\")"
   ]
  },
  {
   "cell_type": "code",
   "execution_count": 14,
   "id": "66aa34c3",
   "metadata": {},
   "outputs": [
    {
     "data": {
      "text/plain": [
       "(14783421, 17)"
      ]
     },
     "execution_count": 14,
     "metadata": {},
     "output_type": "execute_result"
    }
   ],
   "source": [
    "f_merged.shape"
   ]
  },
  {
   "cell_type": "code",
   "execution_count": 15,
   "id": "2d7da00b",
   "metadata": {},
   "outputs": [],
   "source": [
    "final_data = f_merged[[\"SKU\", \"VENDOR\", \"COST\", \"RETAIL\", \"TRANNUM\", \"SALEDATE\", \"STYPE\", \"QUANTITY\", \"AMT\"]]"
   ]
  },
  {
   "cell_type": "code",
   "execution_count": 16,
   "id": "7c01bad8",
   "metadata": {},
   "outputs": [
    {
     "data": {
      "text/plain": [
       "(14783421, 9)"
      ]
     },
     "execution_count": 16,
     "metadata": {},
     "output_type": "execute_result"
    }
   ],
   "source": [
    "final_data.shape"
   ]
  },
  {
   "cell_type": "code",
   "execution_count": 17,
   "id": "1698f8b8",
   "metadata": {},
   "outputs": [
    {
     "data": {
      "text/html": [
       "<div>\n",
       "<style scoped>\n",
       "    .dataframe tbody tr th:only-of-type {\n",
       "        vertical-align: middle;\n",
       "    }\n",
       "\n",
       "    .dataframe tbody tr th {\n",
       "        vertical-align: top;\n",
       "    }\n",
       "\n",
       "    .dataframe thead th {\n",
       "        text-align: right;\n",
       "    }\n",
       "</style>\n",
       "<table border=\"1\" class=\"dataframe\">\n",
       "  <thead>\n",
       "    <tr style=\"text-align: right;\">\n",
       "      <th></th>\n",
       "      <th>SKU</th>\n",
       "      <th>VENDOR</th>\n",
       "      <th>COST</th>\n",
       "      <th>RETAIL</th>\n",
       "      <th>TRANNUM</th>\n",
       "      <th>SALEDATE</th>\n",
       "      <th>STYPE</th>\n",
       "      <th>QUANTITY</th>\n",
       "      <th>AMT</th>\n",
       "    </tr>\n",
       "  </thead>\n",
       "  <tbody>\n",
       "    <tr>\n",
       "      <th>0</th>\n",
       "      <td>9550334</td>\n",
       "      <td>3814938</td>\n",
       "      <td>84.50</td>\n",
       "      <td>199.00</td>\n",
       "      <td>1600</td>\n",
       "      <td>2005-08-24</td>\n",
       "      <td>P</td>\n",
       "      <td>1</td>\n",
       "      <td>199.00</td>\n",
       "    </tr>\n",
       "    <tr>\n",
       "      <th>1</th>\n",
       "      <td>9968561</td>\n",
       "      <td>2819205</td>\n",
       "      <td>10.88</td>\n",
       "      <td>17.00</td>\n",
       "      <td>500</td>\n",
       "      <td>2005-04-15</td>\n",
       "      <td>P</td>\n",
       "      <td>1</td>\n",
       "      <td>34.00</td>\n",
       "    </tr>\n",
       "    <tr>\n",
       "      <th>2</th>\n",
       "      <td>9968561</td>\n",
       "      <td>2819205</td>\n",
       "      <td>10.88</td>\n",
       "      <td>17.00</td>\n",
       "      <td>600</td>\n",
       "      <td>2005-06-14</td>\n",
       "      <td>P</td>\n",
       "      <td>1</td>\n",
       "      <td>25.50</td>\n",
       "    </tr>\n",
       "    <tr>\n",
       "      <th>3</th>\n",
       "      <td>9968561</td>\n",
       "      <td>2819205</td>\n",
       "      <td>10.88</td>\n",
       "      <td>17.00</td>\n",
       "      <td>900</td>\n",
       "      <td>2005-05-18</td>\n",
       "      <td>P</td>\n",
       "      <td>1</td>\n",
       "      <td>34.00</td>\n",
       "    </tr>\n",
       "    <tr>\n",
       "      <th>4</th>\n",
       "      <td>9968561</td>\n",
       "      <td>2819205</td>\n",
       "      <td>10.88</td>\n",
       "      <td>17.00</td>\n",
       "      <td>1300</td>\n",
       "      <td>2005-06-10</td>\n",
       "      <td>R</td>\n",
       "      <td>1</td>\n",
       "      <td>25.50</td>\n",
       "    </tr>\n",
       "  </tbody>\n",
       "</table>\n",
       "</div>"
      ],
      "text/plain": [
       "       SKU   VENDOR  COST  RETAIL  TRANNUM    SALEDATE STYPE  QUANTITY    AMT\n",
       "0  9550334  3814938 84.50  199.00     1600  2005-08-24     P         1 199.00\n",
       "1  9968561  2819205 10.88   17.00      500  2005-04-15     P         1  34.00\n",
       "2  9968561  2819205 10.88   17.00      600  2005-06-14     P         1  25.50\n",
       "3  9968561  2819205 10.88   17.00      900  2005-05-18     P         1  34.00\n",
       "4  9968561  2819205 10.88   17.00     1300  2005-06-10     R         1  25.50"
      ]
     },
     "execution_count": 17,
     "metadata": {},
     "output_type": "execute_result"
    }
   ],
   "source": [
    "final_data.head()"
   ]
  },
  {
   "cell_type": "code",
   "execution_count": 18,
   "id": "d0d8329e",
   "metadata": {},
   "outputs": [],
   "source": [
    "# Calculate average cost per vendor\n",
    "final_data[\"total_cost\"] = final_data[\"COST\"] * final_data[\"QUANTITY\"]\n",
    "sub = final_data[[\"SKU\", \"VENDOR\", \"total_cost\"]]\n",
    "sub = sub.groupby(\"VENDOR\").agg(CNT = (\"SKU\", \"size\"), TOTAL_COST = (\"total_cost\", \"sum\"))\n",
    "sub[\"AVG_COST\"] = sub[\"TOTAL_COST\"] / sub[\"CNT\"]\n",
    "sub = sub.drop(columns=[\"CNT\", \"TOTAL_COST\"])\n",
    "\n",
    "final_data = final_data.drop(columns=[\"COST\", \"TRANNUM\"])\n",
    "final_data = final_data.merge(sub, how=\"left\", on=\"VENDOR\")"
   ]
  },
  {
   "cell_type": "code",
   "execution_count": 19,
   "id": "23472a03",
   "metadata": {},
   "outputs": [
    {
     "data": {
      "text/html": [
       "<div>\n",
       "<style scoped>\n",
       "    .dataframe tbody tr th:only-of-type {\n",
       "        vertical-align: middle;\n",
       "    }\n",
       "\n",
       "    .dataframe tbody tr th {\n",
       "        vertical-align: top;\n",
       "    }\n",
       "\n",
       "    .dataframe thead th {\n",
       "        text-align: right;\n",
       "    }\n",
       "</style>\n",
       "<table border=\"1\" class=\"dataframe\">\n",
       "  <thead>\n",
       "    <tr style=\"text-align: right;\">\n",
       "      <th></th>\n",
       "      <th>SKU</th>\n",
       "      <th>VENDOR</th>\n",
       "      <th>RETAIL</th>\n",
       "      <th>SALEDATE</th>\n",
       "      <th>STYPE</th>\n",
       "      <th>QUANTITY</th>\n",
       "      <th>AMT</th>\n",
       "      <th>total_cost</th>\n",
       "      <th>AVG_COST</th>\n",
       "    </tr>\n",
       "  </thead>\n",
       "  <tbody>\n",
       "    <tr>\n",
       "      <th>0</th>\n",
       "      <td>9550334</td>\n",
       "      <td>3814938</td>\n",
       "      <td>199.00</td>\n",
       "      <td>2005-08-24</td>\n",
       "      <td>P</td>\n",
       "      <td>1</td>\n",
       "      <td>199.00</td>\n",
       "      <td>84.50</td>\n",
       "      <td>55.50</td>\n",
       "    </tr>\n",
       "    <tr>\n",
       "      <th>1</th>\n",
       "      <td>9968561</td>\n",
       "      <td>2819205</td>\n",
       "      <td>17.00</td>\n",
       "      <td>2005-04-15</td>\n",
       "      <td>P</td>\n",
       "      <td>1</td>\n",
       "      <td>34.00</td>\n",
       "      <td>10.88</td>\n",
       "      <td>10.88</td>\n",
       "    </tr>\n",
       "    <tr>\n",
       "      <th>2</th>\n",
       "      <td>9968561</td>\n",
       "      <td>2819205</td>\n",
       "      <td>17.00</td>\n",
       "      <td>2005-06-14</td>\n",
       "      <td>P</td>\n",
       "      <td>1</td>\n",
       "      <td>25.50</td>\n",
       "      <td>10.88</td>\n",
       "      <td>10.88</td>\n",
       "    </tr>\n",
       "    <tr>\n",
       "      <th>3</th>\n",
       "      <td>9968561</td>\n",
       "      <td>2819205</td>\n",
       "      <td>17.00</td>\n",
       "      <td>2005-05-18</td>\n",
       "      <td>P</td>\n",
       "      <td>1</td>\n",
       "      <td>34.00</td>\n",
       "      <td>10.88</td>\n",
       "      <td>10.88</td>\n",
       "    </tr>\n",
       "    <tr>\n",
       "      <th>4</th>\n",
       "      <td>9968561</td>\n",
       "      <td>2819205</td>\n",
       "      <td>17.00</td>\n",
       "      <td>2005-06-10</td>\n",
       "      <td>R</td>\n",
       "      <td>1</td>\n",
       "      <td>25.50</td>\n",
       "      <td>10.88</td>\n",
       "      <td>10.88</td>\n",
       "    </tr>\n",
       "    <tr>\n",
       "      <th>...</th>\n",
       "      <td>...</td>\n",
       "      <td>...</td>\n",
       "      <td>...</td>\n",
       "      <td>...</td>\n",
       "      <td>...</td>\n",
       "      <td>...</td>\n",
       "      <td>...</td>\n",
       "      <td>...</td>\n",
       "      <td>...</td>\n",
       "    </tr>\n",
       "    <tr>\n",
       "      <th>14783416</th>\n",
       "      <td>5369250</td>\n",
       "      <td>13109</td>\n",
       "      <td>16.00</td>\n",
       "      <td>2005-08-20</td>\n",
       "      <td>P</td>\n",
       "      <td>1</td>\n",
       "      <td>16.00</td>\n",
       "      <td>5.75</td>\n",
       "      <td>5.41</td>\n",
       "    </tr>\n",
       "    <tr>\n",
       "      <th>14783417</th>\n",
       "      <td>5369250</td>\n",
       "      <td>13109</td>\n",
       "      <td>16.00</td>\n",
       "      <td>2005-07-31</td>\n",
       "      <td>R</td>\n",
       "      <td>1</td>\n",
       "      <td>16.00</td>\n",
       "      <td>5.75</td>\n",
       "      <td>5.41</td>\n",
       "    </tr>\n",
       "    <tr>\n",
       "      <th>14783418</th>\n",
       "      <td>5369250</td>\n",
       "      <td>13109</td>\n",
       "      <td>16.00</td>\n",
       "      <td>2005-07-18</td>\n",
       "      <td>P</td>\n",
       "      <td>1</td>\n",
       "      <td>16.00</td>\n",
       "      <td>5.75</td>\n",
       "      <td>5.41</td>\n",
       "    </tr>\n",
       "    <tr>\n",
       "      <th>14783419</th>\n",
       "      <td>5369250</td>\n",
       "      <td>13109</td>\n",
       "      <td>16.00</td>\n",
       "      <td>2005-08-20</td>\n",
       "      <td>P</td>\n",
       "      <td>1</td>\n",
       "      <td>16.00</td>\n",
       "      <td>5.75</td>\n",
       "      <td>5.41</td>\n",
       "    </tr>\n",
       "    <tr>\n",
       "      <th>14783420</th>\n",
       "      <td>5369250</td>\n",
       "      <td>13109</td>\n",
       "      <td>16.00</td>\n",
       "      <td>2005-07-31</td>\n",
       "      <td>R</td>\n",
       "      <td>1</td>\n",
       "      <td>16.00</td>\n",
       "      <td>5.75</td>\n",
       "      <td>5.41</td>\n",
       "    </tr>\n",
       "  </tbody>\n",
       "</table>\n",
       "<p>14783421 rows × 9 columns</p>\n",
       "</div>"
      ],
      "text/plain": [
       "              SKU   VENDOR  RETAIL    SALEDATE STYPE  QUANTITY    AMT  \\\n",
       "0         9550334  3814938  199.00  2005-08-24     P         1 199.00   \n",
       "1         9968561  2819205   17.00  2005-04-15     P         1  34.00   \n",
       "2         9968561  2819205   17.00  2005-06-14     P         1  25.50   \n",
       "3         9968561  2819205   17.00  2005-05-18     P         1  34.00   \n",
       "4         9968561  2819205   17.00  2005-06-10     R         1  25.50   \n",
       "...           ...      ...     ...         ...   ...       ...    ...   \n",
       "14783416  5369250    13109   16.00  2005-08-20     P         1  16.00   \n",
       "14783417  5369250    13109   16.00  2005-07-31     R         1  16.00   \n",
       "14783418  5369250    13109   16.00  2005-07-18     P         1  16.00   \n",
       "14783419  5369250    13109   16.00  2005-08-20     P         1  16.00   \n",
       "14783420  5369250    13109   16.00  2005-07-31     R         1  16.00   \n",
       "\n",
       "          total_cost  AVG_COST  \n",
       "0              84.50     55.50  \n",
       "1              10.88     10.88  \n",
       "2              10.88     10.88  \n",
       "3              10.88     10.88  \n",
       "4              10.88     10.88  \n",
       "...              ...       ...  \n",
       "14783416        5.75      5.41  \n",
       "14783417        5.75      5.41  \n",
       "14783418        5.75      5.41  \n",
       "14783419        5.75      5.41  \n",
       "14783420        5.75      5.41  \n",
       "\n",
       "[14783421 rows x 9 columns]"
      ]
     },
     "execution_count": 19,
     "metadata": {},
     "output_type": "execute_result"
    }
   ],
   "source": [
    "final_data"
   ]
  },
  {
   "cell_type": "code",
   "execution_count": 20,
   "id": "7d178a8e",
   "metadata": {},
   "outputs": [],
   "source": [
    "def categorize(row, row_val):\n",
    "    if row[\"STYPE\"] == row_val:\n",
    "        return 1\n",
    "    else:\n",
    "        return None\n",
    "final_data['Purchases'] = final_data.apply(lambda row: categorize(row, \"P\"), axis=1)\n",
    "final_data[\"Returns\"] = final_data.apply(lambda row: categorize(row, \"R\"), axis = 1)"
   ]
  },
  {
   "cell_type": "code",
   "execution_count": 21,
   "id": "64803d1a",
   "metadata": {},
   "outputs": [],
   "source": [
    "# Calculate recency of purchase\n",
    "sub2 = final_data[final_data[\"STYPE\"] == \"P\"]\n",
    "sub2 = sub2.groupby(\"VENDOR\").agg(RECENCY = (\"SALEDATE\", \"max\"), FREQUENCY = (\"SKU\", \"size\"))\n",
    "\n",
    "final_data = final_data.merge(sub2, how=\"left\", on=\"VENDOR\")"
   ]
  },
  {
   "cell_type": "code",
   "execution_count": 22,
   "id": "bdcb8a20",
   "metadata": {},
   "outputs": [
    {
     "data": {
      "text/html": [
       "<div>\n",
       "<style scoped>\n",
       "    .dataframe tbody tr th:only-of-type {\n",
       "        vertical-align: middle;\n",
       "    }\n",
       "\n",
       "    .dataframe tbody tr th {\n",
       "        vertical-align: top;\n",
       "    }\n",
       "\n",
       "    .dataframe thead th {\n",
       "        text-align: right;\n",
       "    }\n",
       "</style>\n",
       "<table border=\"1\" class=\"dataframe\">\n",
       "  <thead>\n",
       "    <tr style=\"text-align: right;\">\n",
       "      <th></th>\n",
       "      <th>SKU</th>\n",
       "      <th>VENDOR</th>\n",
       "      <th>RETAIL</th>\n",
       "      <th>SALEDATE</th>\n",
       "      <th>STYPE</th>\n",
       "      <th>QUANTITY</th>\n",
       "      <th>AMT</th>\n",
       "      <th>total_cost</th>\n",
       "      <th>AVG_COST</th>\n",
       "      <th>Purchases</th>\n",
       "      <th>Returns</th>\n",
       "      <th>RECENCY</th>\n",
       "      <th>FREQUENCY</th>\n",
       "    </tr>\n",
       "  </thead>\n",
       "  <tbody>\n",
       "    <tr>\n",
       "      <th>0</th>\n",
       "      <td>9550334</td>\n",
       "      <td>3814938</td>\n",
       "      <td>199.00</td>\n",
       "      <td>2005-08-24</td>\n",
       "      <td>P</td>\n",
       "      <td>1</td>\n",
       "      <td>199.00</td>\n",
       "      <td>84.50</td>\n",
       "      <td>55.50</td>\n",
       "      <td>1.00</td>\n",
       "      <td>NaN</td>\n",
       "      <td>2005-08-27</td>\n",
       "      <td>2729.00</td>\n",
       "    </tr>\n",
       "    <tr>\n",
       "      <th>1</th>\n",
       "      <td>9968561</td>\n",
       "      <td>2819205</td>\n",
       "      <td>17.00</td>\n",
       "      <td>2005-04-15</td>\n",
       "      <td>P</td>\n",
       "      <td>1</td>\n",
       "      <td>34.00</td>\n",
       "      <td>10.88</td>\n",
       "      <td>10.88</td>\n",
       "      <td>1.00</td>\n",
       "      <td>NaN</td>\n",
       "      <td>2005-08-27</td>\n",
       "      <td>1032.00</td>\n",
       "    </tr>\n",
       "    <tr>\n",
       "      <th>2</th>\n",
       "      <td>9968561</td>\n",
       "      <td>2819205</td>\n",
       "      <td>17.00</td>\n",
       "      <td>2005-06-14</td>\n",
       "      <td>P</td>\n",
       "      <td>1</td>\n",
       "      <td>25.50</td>\n",
       "      <td>10.88</td>\n",
       "      <td>10.88</td>\n",
       "      <td>1.00</td>\n",
       "      <td>NaN</td>\n",
       "      <td>2005-08-27</td>\n",
       "      <td>1032.00</td>\n",
       "    </tr>\n",
       "    <tr>\n",
       "      <th>3</th>\n",
       "      <td>9968561</td>\n",
       "      <td>2819205</td>\n",
       "      <td>17.00</td>\n",
       "      <td>2005-05-18</td>\n",
       "      <td>P</td>\n",
       "      <td>1</td>\n",
       "      <td>34.00</td>\n",
       "      <td>10.88</td>\n",
       "      <td>10.88</td>\n",
       "      <td>1.00</td>\n",
       "      <td>NaN</td>\n",
       "      <td>2005-08-27</td>\n",
       "      <td>1032.00</td>\n",
       "    </tr>\n",
       "    <tr>\n",
       "      <th>4</th>\n",
       "      <td>9968561</td>\n",
       "      <td>2819205</td>\n",
       "      <td>17.00</td>\n",
       "      <td>2005-06-10</td>\n",
       "      <td>R</td>\n",
       "      <td>1</td>\n",
       "      <td>25.50</td>\n",
       "      <td>10.88</td>\n",
       "      <td>10.88</td>\n",
       "      <td>NaN</td>\n",
       "      <td>1.00</td>\n",
       "      <td>2005-08-27</td>\n",
       "      <td>1032.00</td>\n",
       "    </tr>\n",
       "  </tbody>\n",
       "</table>\n",
       "</div>"
      ],
      "text/plain": [
       "       SKU   VENDOR  RETAIL    SALEDATE STYPE  QUANTITY    AMT  total_cost  \\\n",
       "0  9550334  3814938  199.00  2005-08-24     P         1 199.00       84.50   \n",
       "1  9968561  2819205   17.00  2005-04-15     P         1  34.00       10.88   \n",
       "2  9968561  2819205   17.00  2005-06-14     P         1  25.50       10.88   \n",
       "3  9968561  2819205   17.00  2005-05-18     P         1  34.00       10.88   \n",
       "4  9968561  2819205   17.00  2005-06-10     R         1  25.50       10.88   \n",
       "\n",
       "   AVG_COST  Purchases  Returns     RECENCY  FREQUENCY  \n",
       "0     55.50       1.00      NaN  2005-08-27    2729.00  \n",
       "1     10.88       1.00      NaN  2005-08-27    1032.00  \n",
       "2     10.88       1.00      NaN  2005-08-27    1032.00  \n",
       "3     10.88       1.00      NaN  2005-08-27    1032.00  \n",
       "4     10.88        NaN     1.00  2005-08-27    1032.00  "
      ]
     },
     "execution_count": 22,
     "metadata": {},
     "output_type": "execute_result"
    }
   ],
   "source": [
    "final_data.head()"
   ]
  },
  {
   "cell_type": "code",
   "execution_count": 23,
   "id": "359a5e3e",
   "metadata": {},
   "outputs": [],
   "source": [
    "# Caluclate the profit for each SKU based on the sale type\n",
    "final_data.loc[final_data.STYPE == \"P\", \"PROFIT\"] = (final_data[\"AMT\"] - final_data[\"AVG_COST\"]) * final_data[\"QUANTITY\"]\n",
    "final_data.loc[final_data.STYPE == \"R\", \"PROFIT\"] = (-final_data[\"AMT\"] - final_data[\"AVG_COST\"]) * final_data[\"QUANTITY\"]"
   ]
  },
  {
   "cell_type": "code",
   "execution_count": 24,
   "id": "0fb0d54c",
   "metadata": {},
   "outputs": [
    {
     "data": {
      "text/html": [
       "<div>\n",
       "<style scoped>\n",
       "    .dataframe tbody tr th:only-of-type {\n",
       "        vertical-align: middle;\n",
       "    }\n",
       "\n",
       "    .dataframe tbody tr th {\n",
       "        vertical-align: top;\n",
       "    }\n",
       "\n",
       "    .dataframe thead th {\n",
       "        text-align: right;\n",
       "    }\n",
       "</style>\n",
       "<table border=\"1\" class=\"dataframe\">\n",
       "  <thead>\n",
       "    <tr style=\"text-align: right;\">\n",
       "      <th></th>\n",
       "      <th>SKU</th>\n",
       "      <th>VENDOR</th>\n",
       "      <th>RETAIL</th>\n",
       "      <th>SALEDATE</th>\n",
       "      <th>STYPE</th>\n",
       "      <th>QUANTITY</th>\n",
       "      <th>AMT</th>\n",
       "      <th>total_cost</th>\n",
       "      <th>AVG_COST</th>\n",
       "      <th>Purchases</th>\n",
       "      <th>Returns</th>\n",
       "      <th>RECENCY</th>\n",
       "      <th>FREQUENCY</th>\n",
       "      <th>PROFIT</th>\n",
       "    </tr>\n",
       "  </thead>\n",
       "  <tbody>\n",
       "    <tr>\n",
       "      <th>0</th>\n",
       "      <td>9550334</td>\n",
       "      <td>3814938</td>\n",
       "      <td>199.00</td>\n",
       "      <td>2005-08-24</td>\n",
       "      <td>P</td>\n",
       "      <td>1</td>\n",
       "      <td>199.00</td>\n",
       "      <td>84.50</td>\n",
       "      <td>55.50</td>\n",
       "      <td>1.00</td>\n",
       "      <td>NaN</td>\n",
       "      <td>2005-08-27</td>\n",
       "      <td>2729.00</td>\n",
       "      <td>143.50</td>\n",
       "    </tr>\n",
       "    <tr>\n",
       "      <th>1</th>\n",
       "      <td>9968561</td>\n",
       "      <td>2819205</td>\n",
       "      <td>17.00</td>\n",
       "      <td>2005-04-15</td>\n",
       "      <td>P</td>\n",
       "      <td>1</td>\n",
       "      <td>34.00</td>\n",
       "      <td>10.88</td>\n",
       "      <td>10.88</td>\n",
       "      <td>1.00</td>\n",
       "      <td>NaN</td>\n",
       "      <td>2005-08-27</td>\n",
       "      <td>1032.00</td>\n",
       "      <td>23.12</td>\n",
       "    </tr>\n",
       "  </tbody>\n",
       "</table>\n",
       "</div>"
      ],
      "text/plain": [
       "       SKU   VENDOR  RETAIL    SALEDATE STYPE  QUANTITY    AMT  total_cost  \\\n",
       "0  9550334  3814938  199.00  2005-08-24     P         1 199.00       84.50   \n",
       "1  9968561  2819205   17.00  2005-04-15     P         1  34.00       10.88   \n",
       "\n",
       "   AVG_COST  Purchases  Returns     RECENCY  FREQUENCY  PROFIT  \n",
       "0     55.50       1.00      NaN  2005-08-27    2729.00  143.50  \n",
       "1     10.88       1.00      NaN  2005-08-27    1032.00   23.12  "
      ]
     },
     "execution_count": 24,
     "metadata": {},
     "output_type": "execute_result"
    }
   ],
   "source": [
    "final_data.head(2)"
   ]
  },
  {
   "cell_type": "code",
   "execution_count": 25,
   "id": "ab474b65",
   "metadata": {},
   "outputs": [],
   "source": [
    "# Aggregate rows with the same VENDOR\n",
    "f_data = final_data.groupby(\"VENDOR\").agg(FREQUENCY = (\"FREQUENCY\", \"max\"),\n",
    "                                          RECENCY = (\"RECENCY\", \"max\"),\n",
    "                                          AVG_COST = (\"AVG_COST\", \"mean\"),\n",
    "                                          TOTAL_COST = (\"total_cost\", \"sum\"),\n",
    "                                          RETAIL = (\"RETAIL\", \"sum\"),\n",
    "                                          QUANTITY = (\"QUANTITY\", \"sum\"),\n",
    "                                          AMT = (\"AMT\", \"sum\"),\n",
    "                                          PROFIT = (\"PROFIT\", \"sum\"),\n",
    "                                          PURCHASES = (\"Purchases\", \"sum\"),\n",
    "                                          RETURNS = (\"Returns\", \"sum\")).sort_values(\"FREQUENCY\", ascending = False)"
   ]
  },
  {
   "cell_type": "code",
   "execution_count": 26,
   "id": "32d80231",
   "metadata": {},
   "outputs": [
    {
     "data": {
      "text/html": [
       "<div>\n",
       "<style scoped>\n",
       "    .dataframe tbody tr th:only-of-type {\n",
       "        vertical-align: middle;\n",
       "    }\n",
       "\n",
       "    .dataframe tbody tr th {\n",
       "        vertical-align: top;\n",
       "    }\n",
       "\n",
       "    .dataframe thead th {\n",
       "        text-align: right;\n",
       "    }\n",
       "</style>\n",
       "<table border=\"1\" class=\"dataframe\">\n",
       "  <thead>\n",
       "    <tr style=\"text-align: right;\">\n",
       "      <th></th>\n",
       "      <th>VENDOR</th>\n",
       "      <th>FREQUENCY</th>\n",
       "      <th>RECENCY</th>\n",
       "      <th>AVG_COST</th>\n",
       "      <th>TOTAL_COST</th>\n",
       "      <th>RETAIL</th>\n",
       "      <th>QUANTITY</th>\n",
       "      <th>AMT</th>\n",
       "      <th>PROFIT</th>\n",
       "      <th>PURCHASES</th>\n",
       "      <th>RETURNS</th>\n",
       "    </tr>\n",
       "  </thead>\n",
       "  <tbody>\n",
       "    <tr>\n",
       "      <th>0</th>\n",
       "      <td>5511283</td>\n",
       "      <td>2125692.00</td>\n",
       "      <td>2005-08-27</td>\n",
       "      <td>9.84</td>\n",
       "      <td>21714578.10</td>\n",
       "      <td>36194305.00</td>\n",
       "      <td>2207718</td>\n",
       "      <td>35649370.87</td>\n",
       "      <td>10964289.67</td>\n",
       "      <td>2125692.00</td>\n",
       "      <td>82026.00</td>\n",
       "    </tr>\n",
       "    <tr>\n",
       "      <th>1</th>\n",
       "      <td>113645</td>\n",
       "      <td>887786.00</td>\n",
       "      <td>2005-08-27</td>\n",
       "      <td>15.88</td>\n",
       "      <td>14799962.40</td>\n",
       "      <td>24594196.52</td>\n",
       "      <td>931722</td>\n",
       "      <td>24283726.40</td>\n",
       "      <td>6826128.40</td>\n",
       "      <td>887786.00</td>\n",
       "      <td>43936.00</td>\n",
       "    </tr>\n",
       "  </tbody>\n",
       "</table>\n",
       "</div>"
      ],
      "text/plain": [
       "    VENDOR  FREQUENCY     RECENCY  AVG_COST  TOTAL_COST      RETAIL  QUANTITY  \\\n",
       "0  5511283 2125692.00  2005-08-27      9.84 21714578.10 36194305.00   2207718   \n",
       "1   113645  887786.00  2005-08-27     15.88 14799962.40 24594196.52    931722   \n",
       "\n",
       "          AMT      PROFIT  PURCHASES  RETURNS  \n",
       "0 35649370.87 10964289.67 2125692.00 82026.00  \n",
       "1 24283726.40  6826128.40  887786.00 43936.00  "
      ]
     },
     "execution_count": 26,
     "metadata": {},
     "output_type": "execute_result"
    }
   ],
   "source": [
    "f_data = f_data.reset_index()\n",
    "f_data.head(2)"
   ]
  },
  {
   "cell_type": "code",
   "execution_count": 27,
   "id": "229df2b1",
   "metadata": {},
   "outputs": [],
   "source": [
    "# Drop vendors with only records of return\n",
    "f_data = f_data.dropna(subset=[\"FREQUENCY\", \"RECENCY\"])"
   ]
  },
  {
   "cell_type": "code",
   "execution_count": 28,
   "id": "244b0730",
   "metadata": {},
   "outputs": [],
   "source": [
    "# Drop vendors with only records of return\n",
    "f_data = f_data.dropna(subset=[\"FREQUENCY\", \"RECENCY\"])"
   ]
  },
  {
   "cell_type": "code",
   "execution_count": 29,
   "id": "d1f4e514",
   "metadata": {},
   "outputs": [],
   "source": [
    "# Uncomment if you u wish to save data to ur local files\n",
    "\n",
    "#f_data.to_csv(\"group7_data.csv\")"
   ]
  },
  {
   "cell_type": "markdown",
   "id": "b0f6f7a0",
   "metadata": {},
   "source": [
    "### ROI Analysis\n",
    "### *Note: Calculations done based on subset of total data, and percentages will change each time this notebook is run, but the should stay within similar percentage rates*"
   ]
  },
  {
   "cell_type": "markdown",
   "id": "1173b4b4",
   "metadata": {},
   "source": [
    "Based on the subset of data we selected below are the revenue, costs, and profits amounts"
   ]
  },
  {
   "cell_type": "code",
   "execution_count": 30,
   "id": "38171a3d",
   "metadata": {},
   "outputs": [
    {
     "data": {
      "text/html": [
       "<div>\n",
       "<style scoped>\n",
       "    .dataframe tbody tr th:only-of-type {\n",
       "        vertical-align: middle;\n",
       "    }\n",
       "\n",
       "    .dataframe tbody tr th {\n",
       "        vertical-align: top;\n",
       "    }\n",
       "\n",
       "    .dataframe thead th {\n",
       "        text-align: right;\n",
       "    }\n",
       "</style>\n",
       "<table border=\"1\" class=\"dataframe\">\n",
       "  <thead>\n",
       "    <tr style=\"text-align: right;\">\n",
       "      <th></th>\n",
       "      <th>VENDOR</th>\n",
       "      <th>TOTAL_COST</th>\n",
       "      <th>PROFIT</th>\n",
       "      <th>VENDOR_CATEGORY</th>\n",
       "    </tr>\n",
       "  </thead>\n",
       "  <tbody>\n",
       "    <tr>\n",
       "      <th>0</th>\n",
       "      <td>5511283</td>\n",
       "      <td>21714578.10</td>\n",
       "      <td>10964289.67</td>\n",
       "      <td>Best Performing Vendors</td>\n",
       "    </tr>\n",
       "    <tr>\n",
       "      <th>1</th>\n",
       "      <td>113645</td>\n",
       "      <td>14799962.40</td>\n",
       "      <td>6826128.40</td>\n",
       "      <td>Best Performing Vendors</td>\n",
       "    </tr>\n",
       "    <tr>\n",
       "      <th>2</th>\n",
       "      <td>3626213</td>\n",
       "      <td>781101.23</td>\n",
       "      <td>707233.45</td>\n",
       "      <td>Best Performing Vendors</td>\n",
       "    </tr>\n",
       "    <tr>\n",
       "      <th>3</th>\n",
       "      <td>2012863</td>\n",
       "      <td>1154713.14</td>\n",
       "      <td>1147666.22</td>\n",
       "      <td>Best Performing Vendors</td>\n",
       "    </tr>\n",
       "    <tr>\n",
       "      <th>4</th>\n",
       "      <td>5715232</td>\n",
       "      <td>13331432.26</td>\n",
       "      <td>648184.71</td>\n",
       "      <td>Best Performing Vendors</td>\n",
       "    </tr>\n",
       "  </tbody>\n",
       "</table>\n",
       "</div>"
      ],
      "text/plain": [
       "    VENDOR  TOTAL_COST      PROFIT          VENDOR_CATEGORY\n",
       "0  5511283 21714578.10 10964289.67  Best Performing Vendors\n",
       "1   113645 14799962.40  6826128.40  Best Performing Vendors\n",
       "2  3626213   781101.23   707233.45  Best Performing Vendors\n",
       "3  2012863  1154713.14  1147666.22  Best Performing Vendors\n",
       "4  5715232 13331432.26   648184.71  Best Performing Vendors"
      ]
     },
     "execution_count": 30,
     "metadata": {},
     "output_type": "execute_result"
    }
   ],
   "source": [
    "best_vendor_lst = [5511283, 113645, 13031, 5715232, 3626213,\n",
    "                   2012863, 3313116, 9520439, 313319, 6016957, \n",
    "                   7016341, 2067178, 4516339, 13396, 1114936, \n",
    "                   2017178, 5011295, 60904, 10903, 6041161, \n",
    "                   4412768, 6013105, 9514659, 1116343, 6062767, \n",
    "                   66561, 226176, 4259203, 9113491, 7326340, \n",
    "                   5745232, 11679, 3916215, 514761, 4016074, \n",
    "                   5016699, 16561, 7510902]\n",
    "\n",
    "worst_vendor_lst = [115362, 7045883, 7211456, 7095883, 7055883, \n",
    "                    7035883, 2819403, 6935883, 1012863, 16605, \n",
    "                    9716181, 2512827, 3513036, 5611454, 7221456, \n",
    "                    6945292, 9713322, 4913317, 2219404, 6916222]\n",
    "\n",
    "\n",
    "f_data[\"VENDOR_CATEGORY\"] = \"Average Performing Vendors\"\n",
    "f_data.loc[f_data[\"VENDOR\"].isin(worst_vendor_lst), \"VENDOR_CATEGORY\"] = \"Worst Performing Vendors\"\n",
    "f_data.loc[f_data[\"VENDOR\"].isin(best_vendor_lst), \"VENDOR_CATEGORY\"] = \"Best Performing Vendors\"\n",
    "\n",
    "#keep the useful features \n",
    "f_data = f_data[[\"VENDOR\",\"TOTAL_COST\", \"PROFIT\", \"VENDOR_CATEGORY\"]]\n",
    "\n",
    "f_data.head()"
   ]
  },
  {
   "cell_type": "markdown",
   "id": "dc7739b0",
   "metadata": {},
   "source": [
    "- Total revenue, costs, and profits of all vendors\n",
    "- According to https://www.ibisworld.com/industry-statistics/market-size/department-stores-united-states/#:~:text=What%20is%20the%20market%20size,is%20%24135.9bn%20in%202022. the US revenue for the departement store industry is $117.00 billion"
   ]
  },
  {
   "cell_type": "code",
   "execution_count": 31,
   "id": "0ae269d4",
   "metadata": {},
   "outputs": [
    {
     "data": {
      "text/html": [
       "<div>\n",
       "<style scoped>\n",
       "    .dataframe tbody tr th:only-of-type {\n",
       "        vertical-align: middle;\n",
       "    }\n",
       "\n",
       "    .dataframe tbody tr th {\n",
       "        vertical-align: top;\n",
       "    }\n",
       "\n",
       "    .dataframe thead th {\n",
       "        text-align: right;\n",
       "    }\n",
       "</style>\n",
       "<table border=\"1\" class=\"dataframe\">\n",
       "  <thead>\n",
       "    <tr style=\"text-align: right;\">\n",
       "      <th></th>\n",
       "      <th>VENDOR</th>\n",
       "      <th>PROFIT</th>\n",
       "      <th>TOTAL_COST</th>\n",
       "      <th>VENDOR_CATEGORY</th>\n",
       "    </tr>\n",
       "  </thead>\n",
       "  <tbody>\n",
       "    <tr>\n",
       "      <th>0</th>\n",
       "      <td>5511283</td>\n",
       "      <td>16926414.71</td>\n",
       "      <td>21714578.10</td>\n",
       "      <td>Best Performing Vendors</td>\n",
       "    </tr>\n",
       "    <tr>\n",
       "      <th>1</th>\n",
       "      <td>113645</td>\n",
       "      <td>13265587.62</td>\n",
       "      <td>14799962.40</td>\n",
       "      <td>Best Performing Vendors</td>\n",
       "    </tr>\n",
       "    <tr>\n",
       "      <th>2</th>\n",
       "      <td>13031</td>\n",
       "      <td>810849.46</td>\n",
       "      <td>781101.23</td>\n",
       "      <td>Best Performing Vendors</td>\n",
       "    </tr>\n",
       "    <tr>\n",
       "      <th>3</th>\n",
       "      <td>5715232</td>\n",
       "      <td>1292774.47</td>\n",
       "      <td>1154713.14</td>\n",
       "      <td>Best Performing Vendors</td>\n",
       "    </tr>\n",
       "    <tr>\n",
       "      <th>4</th>\n",
       "      <td>3626213</td>\n",
       "      <td>529786.74</td>\n",
       "      <td>13331432.26</td>\n",
       "      <td>Best Performing Vendors</td>\n",
       "    </tr>\n",
       "  </tbody>\n",
       "</table>\n",
       "</div>"
      ],
      "text/plain": [
       "    VENDOR      PROFIT  TOTAL_COST          VENDOR_CATEGORY\n",
       "0  5511283 16926414.71 21714578.10  Best Performing Vendors\n",
       "1   113645 13265587.62 14799962.40  Best Performing Vendors\n",
       "2    13031   810849.46   781101.23  Best Performing Vendors\n",
       "3  5715232  1292774.47  1154713.14  Best Performing Vendors\n",
       "4  3626213   529786.74 13331432.26  Best Performing Vendors"
      ]
     },
     "execution_count": 31,
     "metadata": {},
     "output_type": "execute_result"
    }
   ],
   "source": [
    "df = pd.read_csv(\"group7_data.csv\")\n",
    "df[[\"VENDOR_CATEGORY\", \"TOTAL_COST\"]] = f_data[[\"VENDOR_CATEGORY\", \"TOTAL_COST\"]]\n",
    "df = df[[\"VENDOR\", \"PROFIT\", \"TOTAL_COST\", \"VENDOR_CATEGORY\" ]]\n",
    "df.head()"
   ]
  },
  {
   "cell_type": "code",
   "execution_count": 32,
   "id": "fa2635bc",
   "metadata": {},
   "outputs": [
    {
     "name": "stdout",
     "output_type": "stream",
     "text": [
      "revenue: 288104711.0\n",
      "cost: 194638007.0\n",
      "profit: 93466704.0\n",
      "-------------------\n",
      "Based on our subset of data Dillards revenue makes up 0.25% of of total revenue in the department store market in the United States\n"
     ]
    }
   ],
   "source": [
    "revenue = round((df[\"TOTAL_COST\"].sum()) + (df[\"PROFIT\"].sum()), 0)\n",
    "cost = round((df[\"TOTAL_COST\"].sum()), 0)\n",
    "\n",
    "profit = revenue - cost\n",
    "\n",
    "print(\"revenue:\",revenue)\n",
    "print(\"cost:\", cost)\n",
    "print(\"profit:\", profit)\n",
    "\n",
    "print(\"-------------------\")\n",
    "global_rev = 117000000000\n",
    "dill_perc_rev = round((revenue/global_rev * 100), 2)\n",
    "print(\"Based on our subset of data Dillards revenue makes up {}% of of total revenue in the department store market in the United States\".format(dill_perc_rev))"
   ]
  },
  {
   "cell_type": "markdown",
   "id": "2d8070c4",
   "metadata": {},
   "source": [
    "Based on the vendors we labeled as \"Best\" below are the revenue, costs, and profit amounts"
   ]
  },
  {
   "cell_type": "code",
   "execution_count": 33,
   "id": "75340791",
   "metadata": {},
   "outputs": [
    {
     "name": "stdout",
     "output_type": "stream",
     "text": [
      "Best Vendors Revenue: 154209118.0\n",
      "Best Vendors Cost: 99480088.0\n",
      "Best_Vendors Profit: 54729030.0\n",
      "-------------------------------\n",
      "The best vendors make up 54% of total revenue\n",
      "The best vendors make up 51% of total cost\n",
      "The best vendors make up 59% of total profit\n"
     ]
    }
   ],
   "source": [
    "best_v = df[df[\"VENDOR_CATEGORY\"] == \"Best Performing Vendors\"]\n",
    "bv_rev = round(sum(best_v[\"TOTAL_COST\"]) + sum(best_v[\"PROFIT\"]), 0)\n",
    "bv_cost = round(sum(best_v[\"TOTAL_COST\"]), 0)\n",
    "bv_prof = bv_rev - bv_cost\n",
    "\n",
    "print(\"Best Vendors Revenue:\", bv_rev)\n",
    "print(\"Best Vendors Cost:\", bv_cost)\n",
    "print(\"Best_Vendors Profit:\", bv_prof)\n",
    "\n",
    "print(\"-------------------------------\")\n",
    "print(\"The best vendors make up {}% of total revenue\".format(round((bv_rev/revenue)*100)))\n",
    "print(\"The best vendors make up {}% of total cost\".format(round((bv_cost/cost) * 100)))\n",
    "print(\"The best vendors make up {}% of total profit\".format(round((bv_prof/profit) * 100)))\n"
   ]
  },
  {
   "cell_type": "markdown",
   "id": "ce240700",
   "metadata": {},
   "source": [
    "Based on the vendors we labeled as \"Worst\" below are the revenue, costs, and profit amounts"
   ]
  },
  {
   "cell_type": "code",
   "execution_count": 34,
   "id": "35e8c9b3",
   "metadata": {},
   "outputs": [
    {
     "name": "stdout",
     "output_type": "stream",
     "text": [
      "Worst Vendors Revenue: 4621982.0\n",
      "Worst Vendors Cost: 4488822.0\n",
      "Worst Vendors Profit: 133160.0\n",
      "-------------------------------\n",
      "The worst vendors make up 2% of total revenue\n",
      "The worst vendors make up 2% of total cost\n",
      "The worst vendors make up 0% of total profit\n"
     ]
    }
   ],
   "source": [
    "worst_v = df[df[\"VENDOR_CATEGORY\"] == \"Worst Performing Vendors\"]\n",
    "wv_rev = round(sum(worst_v[\"TOTAL_COST\"]) + sum(worst_v[\"PROFIT\"]), 0)\n",
    "wv_cost = round(sum(worst_v[\"TOTAL_COST\"]), 0)\n",
    "wv_prof = wv_rev - wv_cost\n",
    "\n",
    "print(\"Worst Vendors Revenue:\", wv_rev)\n",
    "print(\"Worst Vendors Cost:\", wv_cost)\n",
    "print(\"Worst Vendors Profit:\", wv_prof)\n",
    "\n",
    "print(\"-------------------------------\")\n",
    "print(\"The worst vendors make up {}% of total revenue\".format(round((wv_rev/revenue)*100)))\n",
    "print(\"The worst vendors make up {}% of total cost\".format(round((wv_cost/cost) * 100)))\n",
    "print(\"The worst vendors make up {}% of total profit\".format(round((wv_prof/profit) * 100)))\n"
   ]
  },
  {
   "cell_type": "markdown",
   "id": "bd86b105",
   "metadata": {},
   "source": [
    "- Fte: 4 of us\n",
    "- ds_salary: pulled from given excel sheet\n",
    "- duration: we worked on this for about 12 weeks\n",
    "- hrs: 4 * 40"
   ]
  },
  {
   "cell_type": "code",
   "execution_count": 35,
   "id": "f4ce24da",
   "metadata": {},
   "outputs": [
    {
     "name": "stdout",
     "output_type": "stream",
     "text": [
      "The cost of our consulting is $20076.0\n",
      "The ROI for Dillards using our analysis is: $4468746.0\n"
     ]
    }
   ],
   "source": [
    "fte = 4\n",
    "ds_hrly_rt = 40\n",
    "hrs = 4 *10\n",
    "\n",
    "duration = 12\n",
    "cloud_comp_hours = 8760\n",
    "c_comp_cost = 0.10\n",
    "\n",
    "consulting_cost = (duration * hrs) * ds_hrly_rt\n",
    "cloud_computing_cost = cloud_comp_hours * c_comp_cost\n",
    "print(\"The cost of our consulting is ${}\".format(consulting_cost + cloud_computing_cost))\n",
    "\n",
    "print(\"The ROI for Dillards using our analysis is: ${}\".format(wv_cost - (consulting_cost + cloud_computing_cost)))"
   ]
  },
  {
   "cell_type": "markdown",
   "id": "c78fcce4",
   "metadata": {},
   "source": [
    "- By dropping the vendors labeled as worst Dillards can cut costs by $4 million or 2% of total cost in the next fiscal year\n",
    "\n",
    "- By dropping the worst performing vendors, revenue and profit will initially decrease by 2%, however according to https://www.eiu.com/n/campaigns/consumer-in-2023/ we can expect the department store industry to grow by 6% we can expect to make up this loss in revenue in the next fiscal year\n",
    "\n",
    "- We would reccomend Dillards to re-aclocate saved costs into investing more in the vendors we labeled as best in order to achieve higher growth in the next fiscal year\n",
    "\n",
    "- The total ROI for our analysis is roughly $4 million"
   ]
  },
  {
   "cell_type": "code",
   "execution_count": null,
   "id": "b90fa0db",
   "metadata": {},
   "outputs": [],
   "source": []
  }
 ],
 "metadata": {
  "kernelspec": {
   "display_name": "Python 3",
   "language": "python",
   "name": "python3"
  },
  "language_info": {
   "codemirror_mode": {
    "name": "ipython",
    "version": 3
   },
   "file_extension": ".py",
   "mimetype": "text/x-python",
   "name": "python",
   "nbconvert_exporter": "python",
   "pygments_lexer": "ipython3",
   "version": "3.8.8"
  }
 },
 "nbformat": 4,
 "nbformat_minor": 5
}
