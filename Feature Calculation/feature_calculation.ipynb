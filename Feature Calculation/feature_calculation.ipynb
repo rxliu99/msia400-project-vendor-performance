{
 "cells": [
  {
   "cell_type": "code",
   "execution_count": 1,
   "id": "3fb65b67",
   "metadata": {},
   "outputs": [],
   "source": [
    "import pandas as pd\n",
    "pd.set_option('display.float_format', '{:.2f}'.format)\n",
    "import warnings\n",
    "warnings.filterwarnings(\"ignore\")"
   ]
  },
  {
   "cell_type": "code",
   "execution_count": 2,
   "id": "92d2a686",
   "metadata": {},
   "outputs": [],
   "source": [
    "sku = pd.read_csv(\"skuinfo2.csv\")"
   ]
  },
  {
   "cell_type": "code",
   "execution_count": 3,
   "id": "77c1faf7",
   "metadata": {},
   "outputs": [
    {
     "data": {
      "text/plain": [
       "(1556033, 10)"
      ]
     },
     "execution_count": 3,
     "metadata": {},
     "output_type": "execute_result"
    }
   ],
   "source": [
    "skuinfo = pd.read_csv(\"skuinfo2.csv\")\n",
    "skuinfo.shape"
   ]
  },
  {
   "cell_type": "code",
   "execution_count": 4,
   "id": "5468d659",
   "metadata": {},
   "outputs": [
    {
     "data": {
      "text/html": [
       "<div>\n",
       "<style scoped>\n",
       "    .dataframe tbody tr th:only-of-type {\n",
       "        vertical-align: middle;\n",
       "    }\n",
       "\n",
       "    .dataframe tbody tr th {\n",
       "        vertical-align: top;\n",
       "    }\n",
       "\n",
       "    .dataframe thead th {\n",
       "        text-align: right;\n",
       "    }\n",
       "</style>\n",
       "<table border=\"1\" class=\"dataframe\">\n",
       "  <thead>\n",
       "    <tr style=\"text-align: right;\">\n",
       "      <th></th>\n",
       "      <th>SKU</th>\n",
       "      <th>DEPT</th>\n",
       "      <th>CLASSID</th>\n",
       "      <th>UPC</th>\n",
       "      <th>STYLE</th>\n",
       "      <th>COLOR</th>\n",
       "      <th>SIZE</th>\n",
       "      <th>PACKSIZE</th>\n",
       "      <th>VENDOR</th>\n",
       "      <th>BRAND</th>\n",
       "    </tr>\n",
       "  </thead>\n",
       "  <tbody>\n",
       "    <tr>\n",
       "      <th>0</th>\n",
       "      <td>3</td>\n",
       "      <td>6505</td>\n",
       "      <td>113</td>\n",
       "      <td>400000003000</td>\n",
       "      <td>00    F55KT2</td>\n",
       "      <td>WHISPERWHITE</td>\n",
       "      <td>P8EA</td>\n",
       "      <td>1</td>\n",
       "      <td>5119207</td>\n",
       "      <td>TURNBURY</td>\n",
       "    </tr>\n",
       "    <tr>\n",
       "      <th>1</th>\n",
       "      <td>4</td>\n",
       "      <td>8101</td>\n",
       "      <td>002</td>\n",
       "      <td>400000004000</td>\n",
       "      <td>22    615CZ4</td>\n",
       "      <td>SPEARMI</td>\n",
       "      <td>S</td>\n",
       "      <td>1</td>\n",
       "      <td>3311144</td>\n",
       "      <td>C A SPOR</td>\n",
       "    </tr>\n",
       "    <tr>\n",
       "      <th>2</th>\n",
       "      <td>5</td>\n",
       "      <td>7307</td>\n",
       "      <td>003</td>\n",
       "      <td>400000005000</td>\n",
       "      <td>7LBS  245-01</td>\n",
       "      <td>34 SILVER</td>\n",
       "      <td>KING</td>\n",
       "      <td>1</td>\n",
       "      <td>5510554</td>\n",
       "      <td>BEAU IDE</td>\n",
       "    </tr>\n",
       "    <tr>\n",
       "      <th>3</th>\n",
       "      <td>8</td>\n",
       "      <td>3404</td>\n",
       "      <td>00B</td>\n",
       "      <td>400000008000</td>\n",
       "      <td>622   F05H84</td>\n",
       "      <td>MORNING MI</td>\n",
       "      <td>2T</td>\n",
       "      <td>1</td>\n",
       "      <td>2912827</td>\n",
       "      <td>HARTSTRI</td>\n",
       "    </tr>\n",
       "    <tr>\n",
       "      <th>4</th>\n",
       "      <td>15</td>\n",
       "      <td>2301</td>\n",
       "      <td>004</td>\n",
       "      <td>400000015000</td>\n",
       "      <td>126   MDU461</td>\n",
       "      <td>255CAMEL</td>\n",
       "      <td>12</td>\n",
       "      <td>1</td>\n",
       "      <td>23272</td>\n",
       "      <td>JONES/LA</td>\n",
       "    </tr>\n",
       "  </tbody>\n",
       "</table>\n",
       "</div>"
      ],
      "text/plain": [
       "   SKU  DEPT CLASSID           UPC         STYLE         COLOR  SIZE  \\\n",
       "0    3  6505     113  400000003000  00    F55KT2  WHISPERWHITE  P8EA   \n",
       "1    4  8101     002  400000004000  22    615CZ4       SPEARMI     S   \n",
       "2    5  7307     003  400000005000  7LBS  245-01     34 SILVER  KING   \n",
       "3    8  3404     00B  400000008000  622   F05H84    MORNING MI    2T   \n",
       "4   15  2301     004  400000015000  126   MDU461      255CAMEL    12   \n",
       "\n",
       "   PACKSIZE   VENDOR     BRAND  \n",
       "0         1  5119207  TURNBURY  \n",
       "1         1  3311144  C A SPOR  \n",
       "2         1  5510554  BEAU IDE  \n",
       "3         1  2912827  HARTSTRI  \n",
       "4         1    23272  JONES/LA  "
      ]
     },
     "execution_count": 4,
     "metadata": {},
     "output_type": "execute_result"
    }
   ],
   "source": [
    "skuinfo.head()"
   ]
  },
  {
   "cell_type": "code",
   "execution_count": 5,
   "id": "3cfad0ef",
   "metadata": {},
   "outputs": [],
   "source": [
    "skstinfo = pd.read_csv(\"skstinfo.csv\", header = None, usecols = [0, 2, 3])"
   ]
  },
  {
   "cell_type": "code",
   "execution_count": 6,
   "id": "935604af",
   "metadata": {},
   "outputs": [
    {
     "data": {
      "text/plain": [
       "(39230146, 3)"
      ]
     },
     "execution_count": 6,
     "metadata": {},
     "output_type": "execute_result"
    }
   ],
   "source": [
    "skstinfo.shape"
   ]
  },
  {
   "cell_type": "code",
   "execution_count": 7,
   "id": "c004ad5e",
   "metadata": {},
   "outputs": [],
   "source": [
    "skstinfo.rename(columns = {0: \"SKU\",\n",
    "                          2: \"COST\",\n",
    "                          3: \"RETAIL\"}, inplace = True)"
   ]
  },
  {
   "cell_type": "code",
   "execution_count": 8,
   "id": "bcbbc845",
   "metadata": {},
   "outputs": [],
   "source": [
    "trnsact = pd.read_csv(\"trnsact.csv\", header = None, usecols = [0, 3, 5, 6, 7, 9])"
   ]
  },
  {
   "cell_type": "code",
   "execution_count": 9,
   "id": "d85666b8",
   "metadata": {},
   "outputs": [],
   "source": [
    "trnsact.rename(columns = {0: \"SKU\", 3: \"TRANNUM\", 5: \"SALEDATE\", 6: \"STYPE\", 7: \"QUANTITY\", 9: \"AMT\"}, inplace = True)"
   ]
  },
  {
   "cell_type": "code",
   "execution_count": 10,
   "id": "3659bb7b",
   "metadata": {},
   "outputs": [],
   "source": [
    "# Select random 10% subsamples from original tables because the original tables are too large to perform joins\n",
    "f_transact = trnsact.sample(round(len(trnsact) * 0.10))\n",
    "f_sku = sku.sample(round(len(sku) * 0.10))\n",
    "f_skst = skstinfo.sample(round(len(skstinfo) * 0.10))"
   ]
  },
  {
   "cell_type": "code",
   "execution_count": 11,
   "id": "1c8affbc",
   "metadata": {},
   "outputs": [],
   "source": [
    "# Join the three subsamples on SKU\n",
    "merged_dfs = pd.merge(f_sku, f_skst, on = \"SKU\", how = \"inner\")"
   ]
  },
  {
   "cell_type": "code",
   "execution_count": 12,
   "id": "a05dd3a4",
   "metadata": {},
   "outputs": [
    {
     "data": {
      "text/plain": [
       "(393162, 12)"
      ]
     },
     "execution_count": 12,
     "metadata": {},
     "output_type": "execute_result"
    }
   ],
   "source": [
    "merged_dfs.shape"
   ]
  },
  {
   "cell_type": "code",
   "execution_count": 13,
   "id": "7965b187",
   "metadata": {},
   "outputs": [],
   "source": [
    "f_merged = pd.merge(merged_dfs, f_transact, on =\"SKU\", how = \"inner\")"
   ]
  },
  {
   "cell_type": "code",
   "execution_count": 14,
   "id": "a8901fec",
   "metadata": {},
   "outputs": [
    {
     "data": {
      "text/plain": [
       "(15141554, 17)"
      ]
     },
     "execution_count": 14,
     "metadata": {},
     "output_type": "execute_result"
    }
   ],
   "source": [
    "f_merged.shape"
   ]
  },
  {
   "cell_type": "code",
   "execution_count": 15,
   "id": "ac6a243c",
   "metadata": {},
   "outputs": [],
   "source": [
    "final_data = f_merged[[\"SKU\", \"VENDOR\", \"COST\", \"RETAIL\", \"TRANNUM\", \"SALEDATE\", \"STYPE\", \"QUANTITY\", \"AMT\"]]"
   ]
  },
  {
   "cell_type": "code",
   "execution_count": 16,
   "id": "4b68393c",
   "metadata": {},
   "outputs": [
    {
     "data": {
      "text/plain": [
       "(15141554, 9)"
      ]
     },
     "execution_count": 16,
     "metadata": {},
     "output_type": "execute_result"
    }
   ],
   "source": [
    "final_data.shape"
   ]
  },
  {
   "cell_type": "code",
   "execution_count": 17,
   "id": "6b66dc65",
   "metadata": {},
   "outputs": [
    {
     "data": {
      "text/html": [
       "<div>\n",
       "<style scoped>\n",
       "    .dataframe tbody tr th:only-of-type {\n",
       "        vertical-align: middle;\n",
       "    }\n",
       "\n",
       "    .dataframe tbody tr th {\n",
       "        vertical-align: top;\n",
       "    }\n",
       "\n",
       "    .dataframe thead th {\n",
       "        text-align: right;\n",
       "    }\n",
       "</style>\n",
       "<table border=\"1\" class=\"dataframe\">\n",
       "  <thead>\n",
       "    <tr style=\"text-align: right;\">\n",
       "      <th></th>\n",
       "      <th>SKU</th>\n",
       "      <th>VENDOR</th>\n",
       "      <th>COST</th>\n",
       "      <th>RETAIL</th>\n",
       "      <th>TRANNUM</th>\n",
       "      <th>SALEDATE</th>\n",
       "      <th>STYPE</th>\n",
       "      <th>QUANTITY</th>\n",
       "      <th>AMT</th>\n",
       "    </tr>\n",
       "  </thead>\n",
       "  <tbody>\n",
       "    <tr>\n",
       "      <th>0</th>\n",
       "      <td>6628905</td>\n",
       "      <td>212785</td>\n",
       "      <td>14.00</td>\n",
       "      <td>39.50</td>\n",
       "      <td>500</td>\n",
       "      <td>2005-06-22</td>\n",
       "      <td>R</td>\n",
       "      <td>1</td>\n",
       "      <td>39.50</td>\n",
       "    </tr>\n",
       "    <tr>\n",
       "      <th>1</th>\n",
       "      <td>6628905</td>\n",
       "      <td>212785</td>\n",
       "      <td>14.00</td>\n",
       "      <td>39.50</td>\n",
       "      <td>1000</td>\n",
       "      <td>2005-06-12</td>\n",
       "      <td>P</td>\n",
       "      <td>1</td>\n",
       "      <td>39.50</td>\n",
       "    </tr>\n",
       "    <tr>\n",
       "      <th>2</th>\n",
       "      <td>6628905</td>\n",
       "      <td>212785</td>\n",
       "      <td>14.00</td>\n",
       "      <td>39.50</td>\n",
       "      <td>1400</td>\n",
       "      <td>2005-05-09</td>\n",
       "      <td>R</td>\n",
       "      <td>1</td>\n",
       "      <td>39.50</td>\n",
       "    </tr>\n",
       "    <tr>\n",
       "      <th>3</th>\n",
       "      <td>6628905</td>\n",
       "      <td>212785</td>\n",
       "      <td>14.00</td>\n",
       "      <td>39.50</td>\n",
       "      <td>3300</td>\n",
       "      <td>2005-08-12</td>\n",
       "      <td>P</td>\n",
       "      <td>1</td>\n",
       "      <td>39.50</td>\n",
       "    </tr>\n",
       "    <tr>\n",
       "      <th>4</th>\n",
       "      <td>6628905</td>\n",
       "      <td>212785</td>\n",
       "      <td>14.00</td>\n",
       "      <td>39.50</td>\n",
       "      <td>900</td>\n",
       "      <td>2005-04-01</td>\n",
       "      <td>P</td>\n",
       "      <td>1</td>\n",
       "      <td>39.50</td>\n",
       "    </tr>\n",
       "  </tbody>\n",
       "</table>\n",
       "</div>"
      ],
      "text/plain": [
       "       SKU  VENDOR  COST  RETAIL  TRANNUM    SALEDATE STYPE  QUANTITY   AMT\n",
       "0  6628905  212785 14.00   39.50      500  2005-06-22     R         1 39.50\n",
       "1  6628905  212785 14.00   39.50     1000  2005-06-12     P         1 39.50\n",
       "2  6628905  212785 14.00   39.50     1400  2005-05-09     R         1 39.50\n",
       "3  6628905  212785 14.00   39.50     3300  2005-08-12     P         1 39.50\n",
       "4  6628905  212785 14.00   39.50      900  2005-04-01     P         1 39.50"
      ]
     },
     "execution_count": 17,
     "metadata": {},
     "output_type": "execute_result"
    }
   ],
   "source": [
    "final_data.head()"
   ]
  },
  {
   "cell_type": "code",
   "execution_count": 18,
   "id": "cc937596",
   "metadata": {},
   "outputs": [],
   "source": [
    "# Calculate average cost per vendor\n",
    "final_data[\"total_cost\"] = final_data[\"COST\"] * final_data[\"QUANTITY\"]\n",
    "sub = final_data[[\"SKU\", \"VENDOR\", \"total_cost\"]]\n",
    "sub = sub.groupby(\"VENDOR\").agg(CNT = (\"SKU\", \"size\"), TOTAL_COST = (\"total_cost\", \"sum\"))\n",
    "sub[\"AVG_COST\"] = sub[\"TOTAL_COST\"] / sub[\"CNT\"]\n",
    "sub = sub.drop(columns=[\"CNT\", \"TOTAL_COST\"])\n",
    "\n",
    "final_data = final_data.drop(columns=[\"total_cost\", \"COST\", \"TRANNUM\"])\n",
    "final_data = final_data.merge(sub, how=\"left\", on=\"VENDOR\")"
   ]
  },
  {
   "cell_type": "code",
   "execution_count": 19,
   "id": "b82c7443",
   "metadata": {},
   "outputs": [],
   "source": [
    "def categorize(row, row_val):\n",
    "    if row[\"STYPE\"] == row_val:\n",
    "        return 1\n",
    "    else:\n",
    "        return None\n",
    "final_data['Purchases'] = final_data.apply(lambda row: categorize(row, \"P\"), axis=1)\n",
    "final_data[\"Returns\"] = final_data.apply(lambda row: categorize(row, \"R\"), axis = 1)"
   ]
  },
  {
   "cell_type": "code",
   "execution_count": 20,
   "id": "30d95256",
   "metadata": {},
   "outputs": [],
   "source": [
    "# Calculate recency of purchase\n",
    "sub2 = final_data[final_data[\"STYPE\"] == \"P\"]\n",
    "sub2 = sub2.groupby(\"VENDOR\").agg(RECENCY = (\"SALEDATE\", \"max\"), FREQUENCY = (\"SKU\", \"size\"))\n",
    "\n",
    "final_data = final_data.merge(sub2, how=\"left\", on=\"VENDOR\")"
   ]
  },
  {
   "cell_type": "code",
   "execution_count": 22,
   "id": "6a2404a6",
   "metadata": {},
   "outputs": [],
   "source": [
    "# Caluclate the profit for each SKU based on the sale type\n",
    "final_data.loc[final_data.STYPE == \"P\", \"PROFIT\"] = (final_data[\"AMT\"] - final_data[\"AVG_COST\"]) * final_data[\"QUANTITY\"]\n",
    "final_data.loc[final_data.STYPE == \"R\", \"PROFIT\"] = (-final_data[\"AMT\"] - final_data[\"AVG_COST\"]) * final_data[\"QUANTITY\"]"
   ]
  },
  {
   "cell_type": "code",
   "execution_count": 23,
   "id": "1ab9a99f",
   "metadata": {},
   "outputs": [],
   "source": [
    "# Aggregate rows with the same VENDOR\n",
    "f_data = final_data.groupby(\"VENDOR\").agg(FREQUENCY = (\"FREQUENCY\", \"max\"),\n",
    "                                          RECENCY = (\"RECENCY\", \"max\"),\n",
    "                                          AVG_COST = (\"AVG_COST\", \"max\"),\n",
    "                                          RETAIL = (\"RETAIL\", \"sum\"),\n",
    "                                          QUANTITY = (\"QUANTITY\", \"sum\"),\n",
    "                                          AMT = (\"AMT\", \"sum\"),\n",
    "                                          PROFIT = (\"PROFIT\", \"sum\"),\n",
    "                                          PURCHASES = (\"Purchases\", \"sum\"),\n",
    "                                          RETURNS = (\"Returns\", \"sum\")).sort_values(\"FREQUENCY\", ascending = False)"
   ]
  },
  {
   "cell_type": "code",
   "execution_count": 24,
   "id": "4beacba5",
   "metadata": {},
   "outputs": [],
   "source": [
    "# Drop vendors with only records of return\n",
    "f_data = f_data.dropna(subset=[\"FREQUENCY\", \"RECENCY\"])"
   ]
  },
  {
   "cell_type": "code",
   "execution_count": 27,
   "id": "97ac98b2",
   "metadata": {},
   "outputs": [
    {
     "data": {
      "text/html": [
       "<div>\n",
       "<style scoped>\n",
       "    .dataframe tbody tr th:only-of-type {\n",
       "        vertical-align: middle;\n",
       "    }\n",
       "\n",
       "    .dataframe tbody tr th {\n",
       "        vertical-align: top;\n",
       "    }\n",
       "\n",
       "    .dataframe thead th {\n",
       "        text-align: right;\n",
       "    }\n",
       "</style>\n",
       "<table border=\"1\" class=\"dataframe\">\n",
       "  <thead>\n",
       "    <tr style=\"text-align: right;\">\n",
       "      <th></th>\n",
       "      <th>FREQUENCY</th>\n",
       "      <th>RECENCY</th>\n",
       "      <th>AVG_COST</th>\n",
       "      <th>RETAIL</th>\n",
       "      <th>QUANTITY</th>\n",
       "      <th>AMT</th>\n",
       "      <th>PROFIT</th>\n",
       "      <th>PURCHASES</th>\n",
       "      <th>RETURNS</th>\n",
       "    </tr>\n",
       "    <tr>\n",
       "      <th>VENDOR</th>\n",
       "      <th></th>\n",
       "      <th></th>\n",
       "      <th></th>\n",
       "      <th></th>\n",
       "      <th></th>\n",
       "      <th></th>\n",
       "      <th></th>\n",
       "      <th></th>\n",
       "      <th></th>\n",
       "    </tr>\n",
       "  </thead>\n",
       "  <tbody>\n",
       "    <tr>\n",
       "      <th>5511283</th>\n",
       "      <td>2611136.00</td>\n",
       "      <td>2005-08-27</td>\n",
       "      <td>12.05</td>\n",
       "      <td>54582096.50</td>\n",
       "      <td>2718062</td>\n",
       "      <td>53552128.27</td>\n",
       "      <td>16300246.47</td>\n",
       "      <td>2611136.00</td>\n",
       "      <td>106926.00</td>\n",
       "    </tr>\n",
       "    <tr>\n",
       "      <th>113645</th>\n",
       "      <td>715334.00</td>\n",
       "      <td>2005-08-27</td>\n",
       "      <td>21.70</td>\n",
       "      <td>27045785.04</td>\n",
       "      <td>749501</td>\n",
       "      <td>26783015.00</td>\n",
       "      <td>8056891.00</td>\n",
       "      <td>715334.00</td>\n",
       "      <td>34167.00</td>\n",
       "    </tr>\n",
       "    <tr>\n",
       "      <th>3626213</th>\n",
       "      <td>652779.00</td>\n",
       "      <td>2005-08-27</td>\n",
       "      <td>1.52</td>\n",
       "      <td>2728934.28</td>\n",
       "      <td>686915</td>\n",
       "      <td>2286423.08</td>\n",
       "      <td>1003410.36</td>\n",
       "      <td>652779.00</td>\n",
       "      <td>34136.00</td>\n",
       "    </tr>\n",
       "    <tr>\n",
       "      <th>13031</th>\n",
       "      <td>411434.00</td>\n",
       "      <td>2005-08-27</td>\n",
       "      <td>2.38</td>\n",
       "      <td>1944368.04</td>\n",
       "      <td>423235</td>\n",
       "      <td>2014154.96</td>\n",
       "      <td>889271.28</td>\n",
       "      <td>411434.00</td>\n",
       "      <td>11801.00</td>\n",
       "    </tr>\n",
       "    <tr>\n",
       "      <th>5715232</th>\n",
       "      <td>359934.00</td>\n",
       "      <td>2005-08-27</td>\n",
       "      <td>31.90</td>\n",
       "      <td>12943467.69</td>\n",
       "      <td>400013</td>\n",
       "      <td>17426741.60</td>\n",
       "      <td>901940.29</td>\n",
       "      <td>359934.00</td>\n",
       "      <td>40079.00</td>\n",
       "    </tr>\n",
       "  </tbody>\n",
       "</table>\n",
       "</div>"
      ],
      "text/plain": [
       "         FREQUENCY     RECENCY  AVG_COST      RETAIL  QUANTITY         AMT  \\\n",
       "VENDOR                                                                       \n",
       "5511283 2611136.00  2005-08-27     12.05 54582096.50   2718062 53552128.27   \n",
       "113645   715334.00  2005-08-27     21.70 27045785.04    749501 26783015.00   \n",
       "3626213  652779.00  2005-08-27      1.52  2728934.28    686915  2286423.08   \n",
       "13031    411434.00  2005-08-27      2.38  1944368.04    423235  2014154.96   \n",
       "5715232  359934.00  2005-08-27     31.90 12943467.69    400013 17426741.60   \n",
       "\n",
       "             PROFIT  PURCHASES   RETURNS  \n",
       "VENDOR                                    \n",
       "5511283 16300246.47 2611136.00 106926.00  \n",
       "113645   8056891.00  715334.00  34167.00  \n",
       "3626213  1003410.36  652779.00  34136.00  \n",
       "13031     889271.28  411434.00  11801.00  \n",
       "5715232   901940.29  359934.00  40079.00  "
      ]
     },
     "execution_count": 27,
     "metadata": {},
     "output_type": "execute_result"
    }
   ],
   "source": [
    "f_data.head()"
   ]
  },
  {
   "cell_type": "code",
   "execution_count": null,
   "id": "e5f09742",
   "metadata": {},
   "outputs": [],
   "source": [
    "# Uncomment to save data to your local storage\n",
    "#f_data.to_csv(\"group7_data.csv\")"
   ]
  }
 ],
 "metadata": {
  "kernelspec": {
   "display_name": "Python 3",
   "language": "python",
   "name": "python3"
  },
  "language_info": {
   "codemirror_mode": {
    "name": "ipython",
    "version": 3
   },
   "file_extension": ".py",
   "mimetype": "text/x-python",
   "name": "python",
   "nbconvert_exporter": "python",
   "pygments_lexer": "ipython3",
   "version": "3.8.8"
  }
 },
 "nbformat": 4,
 "nbformat_minor": 5
}
