{
 "cells": [
  {
   "cell_type": "code",
   "execution_count": 2,
   "id": "dc5bc7cf",
   "metadata": {},
   "outputs": [],
   "source": [
    "import pandas as pd\n",
    "df = pd.read_csv(\"skuinfo2.csv\")"
   ]
  },
  {
   "cell_type": "code",
   "execution_count": 53,
   "id": "cc54f567",
   "metadata": {},
   "outputs": [],
   "source": [
    "import matplotlib.pyplot as plt\n",
    "%matplotlib inline"
   ]
  },
  {
   "cell_type": "code",
   "execution_count": 3,
   "id": "97c39d48",
   "metadata": {},
   "outputs": [
    {
     "data": {
      "text/html": [
       "<div>\n",
       "<style scoped>\n",
       "    .dataframe tbody tr th:only-of-type {\n",
       "        vertical-align: middle;\n",
       "    }\n",
       "\n",
       "    .dataframe tbody tr th {\n",
       "        vertical-align: top;\n",
       "    }\n",
       "\n",
       "    .dataframe thead th {\n",
       "        text-align: right;\n",
       "    }\n",
       "</style>\n",
       "<table border=\"1\" class=\"dataframe\">\n",
       "  <thead>\n",
       "    <tr style=\"text-align: right;\">\n",
       "      <th></th>\n",
       "      <th>SKU</th>\n",
       "      <th>DEPT</th>\n",
       "      <th>CLASSID</th>\n",
       "      <th>UPC</th>\n",
       "      <th>STYLE</th>\n",
       "      <th>COLOR</th>\n",
       "      <th>SIZE</th>\n",
       "      <th>PACKSIZE</th>\n",
       "      <th>VENDOR</th>\n",
       "      <th>BRAND</th>\n",
       "    </tr>\n",
       "  </thead>\n",
       "  <tbody>\n",
       "    <tr>\n",
       "      <th>0</th>\n",
       "      <td>3</td>\n",
       "      <td>6505</td>\n",
       "      <td>113</td>\n",
       "      <td>400000003000</td>\n",
       "      <td>00    F55KT2</td>\n",
       "      <td>WHISPERWHITE</td>\n",
       "      <td>P8EA</td>\n",
       "      <td>1</td>\n",
       "      <td>5119207</td>\n",
       "      <td>TURNBURY</td>\n",
       "    </tr>\n",
       "    <tr>\n",
       "      <th>1</th>\n",
       "      <td>4</td>\n",
       "      <td>8101</td>\n",
       "      <td>002</td>\n",
       "      <td>400000004000</td>\n",
       "      <td>22    615CZ4</td>\n",
       "      <td>SPEARMI</td>\n",
       "      <td>S</td>\n",
       "      <td>1</td>\n",
       "      <td>3311144</td>\n",
       "      <td>C A SPOR</td>\n",
       "    </tr>\n",
       "    <tr>\n",
       "      <th>2</th>\n",
       "      <td>5</td>\n",
       "      <td>7307</td>\n",
       "      <td>003</td>\n",
       "      <td>400000005000</td>\n",
       "      <td>7LBS  245-01</td>\n",
       "      <td>34 SILVER</td>\n",
       "      <td>KING</td>\n",
       "      <td>1</td>\n",
       "      <td>5510554</td>\n",
       "      <td>BEAU IDE</td>\n",
       "    </tr>\n",
       "    <tr>\n",
       "      <th>3</th>\n",
       "      <td>8</td>\n",
       "      <td>3404</td>\n",
       "      <td>00B</td>\n",
       "      <td>400000008000</td>\n",
       "      <td>622   F05H84</td>\n",
       "      <td>MORNING MI</td>\n",
       "      <td>2T</td>\n",
       "      <td>1</td>\n",
       "      <td>2912827</td>\n",
       "      <td>HARTSTRI</td>\n",
       "    </tr>\n",
       "    <tr>\n",
       "      <th>4</th>\n",
       "      <td>15</td>\n",
       "      <td>2301</td>\n",
       "      <td>004</td>\n",
       "      <td>400000015000</td>\n",
       "      <td>126   MDU461</td>\n",
       "      <td>255CAMEL</td>\n",
       "      <td>12</td>\n",
       "      <td>1</td>\n",
       "      <td>23272</td>\n",
       "      <td>JONES/LA</td>\n",
       "    </tr>\n",
       "  </tbody>\n",
       "</table>\n",
       "</div>"
      ],
      "text/plain": [
       "   SKU  DEPT CLASSID           UPC         STYLE         COLOR  SIZE  \\\n",
       "0    3  6505     113  400000003000  00    F55KT2  WHISPERWHITE  P8EA   \n",
       "1    4  8101     002  400000004000  22    615CZ4       SPEARMI     S   \n",
       "2    5  7307     003  400000005000  7LBS  245-01     34 SILVER  KING   \n",
       "3    8  3404     00B  400000008000  622   F05H84    MORNING MI    2T   \n",
       "4   15  2301     004  400000015000  126   MDU461      255CAMEL    12   \n",
       "\n",
       "   PACKSIZE   VENDOR     BRAND  \n",
       "0         1  5119207  TURNBURY  \n",
       "1         1  3311144  C A SPOR  \n",
       "2         1  5510554  BEAU IDE  \n",
       "3         1  2912827  HARTSTRI  \n",
       "4         1    23272  JONES/LA  "
      ]
     },
     "execution_count": 3,
     "metadata": {},
     "output_type": "execute_result"
    }
   ],
   "source": [
    "df.head()"
   ]
  },
  {
   "cell_type": "code",
   "execution_count": 4,
   "id": "9e9ab2ff",
   "metadata": {},
   "outputs": [
    {
     "data": {
      "text/plain": [
       "(1556033, 10)"
      ]
     },
     "execution_count": 4,
     "metadata": {},
     "output_type": "execute_result"
    }
   ],
   "source": [
    "df.shape"
   ]
  },
  {
   "cell_type": "markdown",
   "id": "24c1a52f",
   "metadata": {},
   "source": [
    "### The most popular brand is POLO FAS, and there is a tie between the bottom 159 brands taht are the least popular with only one item in the data"
   ]
  },
  {
   "cell_type": "code",
   "execution_count": 27,
   "id": "312e410a",
   "metadata": {},
   "outputs": [
    {
     "name": "stdout",
     "output_type": "stream",
     "text": [
      "           BRAND\n",
      "POLO FAS  130994\n",
      "BROWN SH   52160\n",
      "ENZO ANG   49121\n",
      "          BRAND\n",
      "IZOD MEN      1\n",
      "DOCKER'S      1\n",
      "GODINGER      1\n",
      "ESSEX MF      1\n",
      "BBCO I        1\n",
      "...         ...\n",
      "SENSI /D      1\n",
      "NOA FLUE      1\n",
      "DEAD TRE      1\n",
      "STEPHANI      1\n",
      "RAWLINGS      1\n",
      "\n",
      "[159 rows x 1 columns]\n"
     ]
    }
   ],
   "source": [
    "brands = pd.DataFrame(df[\"BRAND\"].value_counts())\n",
    "\n",
    "print(brands.head(3))\n",
    "print(brands.tail(159))"
   ]
  },
  {
   "cell_type": "markdown",
   "id": "69732ec6",
   "metadata": {},
   "source": [
    "### The packsize for most items in the data is 1, and the most common range is between 1 and 6 items"
   ]
  },
  {
   "cell_type": "code",
   "execution_count": 35,
   "id": "36cb1751",
   "metadata": {},
   "outputs": [
    {
     "data": {
      "text/plain": [
       "1    1525440\n",
       "3      13987\n",
       "6       7252\n",
       "2       4152\n",
       "4       2925\n",
       "Name: PACKSIZE, dtype: int64"
      ]
     },
     "execution_count": 35,
     "metadata": {},
     "output_type": "execute_result"
    }
   ],
   "source": [
    "packsize = df[\"PACKSIZE\"].value_counts()\n",
    "packsize.head()"
   ]
  },
  {
   "cell_type": "markdown",
   "id": "e30dff48",
   "metadata": {},
   "source": [
    "### We can assume most items in this data set are clothing items since the most common size are clothing sizes with the most common sizes being Large and Medium"
   ]
  },
  {
   "cell_type": "code",
   "execution_count": 55,
   "id": "8fa9bb4c",
   "metadata": {},
   "outputs": [
    {
     "data": {
      "text/plain": [
       "L             124555\n",
       "M             124348\n",
       "S             107074\n",
       "ALL           102739\n",
       "XL             89543\n",
       "               ...  \n",
       "MUG/SHUTTE         1\n",
       "3834               1\n",
       "DINR/FRUTT         1\n",
       "PK60               1\n",
       "PRO POWDER         1\n",
       "Name: SIZE, Length: 9782, dtype: int64"
      ]
     },
     "execution_count": 55,
     "metadata": {},
     "output_type": "execute_result"
    }
   ],
   "source": [
    "sizes = df[\"SIZE\"].value_counts()\n",
    "sizes"
   ]
  },
  {
   "cell_type": "markdown",
   "id": "d10e3347",
   "metadata": {},
   "source": [
    "### After checking for missing values, we found that there were missing values in: Color, Size, and brand. We chose to ignore the missing values, since after merging the data and aggregating them we found that the null values were dropped, and therefore should not affect our machine learning problem"
   ]
  },
  {
   "cell_type": "code",
   "execution_count": 47,
   "id": "a8a489d9",
   "metadata": {},
   "outputs": [
    {
     "name": "stdout",
     "output_type": "stream",
     "text": [
      "SKU False    1556033\n",
      "Name: SKU, dtype: int64\n",
      "DEPT False    1556033\n",
      "Name: DEPT, dtype: int64\n",
      "CLASSID False    1556033\n",
      "Name: CLASSID, dtype: int64\n",
      "UPC False    1556033\n",
      "Name: UPC, dtype: int64\n",
      "STYLE False    1556033\n",
      "Name: STYLE, dtype: int64\n",
      "COLOR False    1550111\n",
      "True        5922\n",
      "Name: COLOR, dtype: int64\n",
      "SIZE False    1548801\n",
      "True        7232\n",
      "Name: SIZE, dtype: int64\n",
      "PACKSIZE False    1556033\n",
      "Name: PACKSIZE, dtype: int64\n",
      "VENDOR False    1556033\n",
      "Name: VENDOR, dtype: int64\n",
      "BRAND False    1531413\n",
      "True       24620\n",
      "Name: BRAND, dtype: int64\n"
     ]
    }
   ],
   "source": [
    "for i in df.columns:\n",
    "    print(i, df[i].isna().value_counts())"
   ]
  },
  {
   "cell_type": "code",
   "execution_count": 44,
   "id": "35908054",
   "metadata": {},
   "outputs": [],
   "source": [
    "df2 = pd.read_csv(\"group7_data.csv\")"
   ]
  },
  {
   "cell_type": "code",
   "execution_count": 46,
   "id": "ebe74c56",
   "metadata": {},
   "outputs": [
    {
     "name": "stdout",
     "output_type": "stream",
     "text": [
      "VENDOR False    883\n",
      "Name: VENDOR, dtype: int64\n",
      "FREQUENCY False    883\n",
      "Name: FREQUENCY, dtype: int64\n",
      "RECENCY False    883\n",
      "Name: RECENCY, dtype: int64\n",
      "AVG_COST False    883\n",
      "Name: AVG_COST, dtype: int64\n",
      "RETAIL False    883\n",
      "Name: RETAIL, dtype: int64\n",
      "QUANTIY False    883\n",
      "Name: QUANTIY, dtype: int64\n",
      "AMT False    883\n",
      "Name: AMT, dtype: int64\n",
      "PURCHASES False    883\n",
      "Name: PURCHASES, dtype: int64\n",
      "RETURNS False    883\n",
      "Name: RETURNS, dtype: int64\n"
     ]
    }
   ],
   "source": [
    "for i in df2.columns:\n",
    "    print(i, df2[i].isna().value_counts())"
   ]
  },
  {
   "cell_type": "code",
   "execution_count": 52,
   "id": "5b9c571b",
   "metadata": {},
   "outputs": [
    {
     "data": {
      "text/plain": [
       "71319"
      ]
     },
     "execution_count": 52,
     "metadata": {},
     "output_type": "execute_result"
    }
   ],
   "source": [
    "df[\"COLOR\"].nunique()"
   ]
  },
  {
   "cell_type": "markdown",
   "id": "24153208",
   "metadata": {},
   "source": [
    "### Findings"
   ]
  },
  {
   "cell_type": "markdown",
   "id": "b2def9f4",
   "metadata": {},
   "source": [
    "- The most popular brand is POLO FAS\n",
    "- There is a 159 way tie between the least popular brands which only appear once in the data\n",
    "- Most items in the data are clothing items with the most popular clothing sizes being medium and large\n",
    "- We found missing items in the data but decided not to do anything with them since once we merged the data the null values would be dropped and it wouldn't affect the data we would use to work on our machine learning question"
   ]
  }
 ],
 "metadata": {
  "kernelspec": {
   "display_name": "Python 3",
   "language": "python",
   "name": "python3"
  },
  "language_info": {
   "codemirror_mode": {
    "name": "ipython",
    "version": 3
   },
   "file_extension": ".py",
   "mimetype": "text/x-python",
   "name": "python",
   "nbconvert_exporter": "python",
   "pygments_lexer": "ipython3",
   "version": "3.8.8"
  }
 },
 "nbformat": 4,
 "nbformat_minor": 5
}
