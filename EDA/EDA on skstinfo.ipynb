{
 "cells": [
  {
   "cell_type": "markdown",
   "metadata": {},
   "source": [
    "# EDA on skstinfo data"
   ]
  },
  {
   "cell_type": "code",
   "execution_count": 2,
   "metadata": {},
   "outputs": [],
   "source": [
    "import matplotlib.pyplot as plt\n",
    "import pandas as pd\n",
    "import numpy as np\n",
    "import seaborn as sns"
   ]
  },
  {
   "cell_type": "markdown",
   "metadata": {},
   "source": [
    "## Sampling 10% of data from skstinfo"
   ]
  },
  {
   "cell_type": "code",
   "execution_count": 8,
   "metadata": {},
   "outputs": [
    {
     "data": {
      "text/html": [
       "<div>\n",
       "<style scoped>\n",
       "    .dataframe tbody tr th:only-of-type {\n",
       "        vertical-align: middle;\n",
       "    }\n",
       "\n",
       "    .dataframe tbody tr th {\n",
       "        vertical-align: top;\n",
       "    }\n",
       "\n",
       "    .dataframe thead th {\n",
       "        text-align: right;\n",
       "    }\n",
       "</style>\n",
       "<table border=\"1\" class=\"dataframe\">\n",
       "  <thead>\n",
       "    <tr style=\"text-align: right;\">\n",
       "      <th></th>\n",
       "      <th>sku</th>\n",
       "      <th>store</th>\n",
       "      <th>cost</th>\n",
       "      <th>retail</th>\n",
       "      <th>unknown</th>\n",
       "    </tr>\n",
       "  </thead>\n",
       "  <tbody>\n",
       "    <tr>\n",
       "      <th>0</th>\n",
       "      <td>3</td>\n",
       "      <td>102</td>\n",
       "      <td>123.36</td>\n",
       "      <td>440.0</td>\n",
       "      <td>0</td>\n",
       "    </tr>\n",
       "    <tr>\n",
       "      <th>1</th>\n",
       "      <td>3</td>\n",
       "      <td>103</td>\n",
       "      <td>123.36</td>\n",
       "      <td>440.0</td>\n",
       "      <td>0</td>\n",
       "    </tr>\n",
       "    <tr>\n",
       "      <th>2</th>\n",
       "      <td>3</td>\n",
       "      <td>104</td>\n",
       "      <td>123.36</td>\n",
       "      <td>440.0</td>\n",
       "      <td>0</td>\n",
       "    </tr>\n",
       "    <tr>\n",
       "      <th>3</th>\n",
       "      <td>3</td>\n",
       "      <td>202</td>\n",
       "      <td>123.36</td>\n",
       "      <td>440.0</td>\n",
       "      <td>0</td>\n",
       "    </tr>\n",
       "    <tr>\n",
       "      <th>4</th>\n",
       "      <td>3</td>\n",
       "      <td>203</td>\n",
       "      <td>123.36</td>\n",
       "      <td>440.0</td>\n",
       "      <td>0</td>\n",
       "    </tr>\n",
       "  </tbody>\n",
       "</table>\n",
       "</div>"
      ],
      "text/plain": [
       "   sku  store    cost  retail  unknown\n",
       "0    3    102  123.36   440.0        0\n",
       "1    3    103  123.36   440.0        0\n",
       "2    3    104  123.36   440.0        0\n",
       "3    3    202  123.36   440.0        0\n",
       "4    3    203  123.36   440.0        0"
      ]
     },
     "execution_count": 8,
     "metadata": {},
     "output_type": "execute_result"
    }
   ],
   "source": [
    "#read in data\n",
    "skstinfo = pd.read_csv('skstinfo.csv', header = 0)\n",
    "skstinfo.head()"
   ]
  },
  {
   "cell_type": "code",
   "execution_count": 13,
   "metadata": {},
   "outputs": [
    {
     "data": {
      "text/plain": [
       "(3923015, 5)"
      ]
     },
     "execution_count": 13,
     "metadata": {},
     "output_type": "execute_result"
    }
   ],
   "source": [
    "#sample 10% of data for EDA\n",
    "skstinfo_sample = skstinfo.sample(frac=0.1)\n",
    "skstinfo_sample.shape"
   ]
  },
  {
   "cell_type": "code",
   "execution_count": 15,
   "metadata": {},
   "outputs": [],
   "source": [
    "#save the sampled data\n",
    "skstinfo_sample.to_csv(\"skstinfo_sample.csv\", index = False)"
   ]
  },
  {
   "cell_type": "markdown",
   "metadata": {},
   "source": [
    "## Descriptive Statistics"
   ]
  },
  {
   "cell_type": "code",
   "execution_count": 18,
   "metadata": {},
   "outputs": [
    {
     "data": {
      "text/html": [
       "<div>\n",
       "<style scoped>\n",
       "    .dataframe tbody tr th:only-of-type {\n",
       "        vertical-align: middle;\n",
       "    }\n",
       "\n",
       "    .dataframe tbody tr th {\n",
       "        vertical-align: top;\n",
       "    }\n",
       "\n",
       "    .dataframe thead th {\n",
       "        text-align: right;\n",
       "    }\n",
       "</style>\n",
       "<table border=\"1\" class=\"dataframe\">\n",
       "  <thead>\n",
       "    <tr style=\"text-align: right;\">\n",
       "      <th></th>\n",
       "      <th>sku</th>\n",
       "      <th>store</th>\n",
       "      <th>cost</th>\n",
       "      <th>retail</th>\n",
       "      <th>unknown</th>\n",
       "    </tr>\n",
       "  </thead>\n",
       "  <tbody>\n",
       "    <tr>\n",
       "      <th>count</th>\n",
       "      <td>3.923015e+06</td>\n",
       "      <td>3.923015e+06</td>\n",
       "      <td>3.923015e+06</td>\n",
       "      <td>3.923015e+06</td>\n",
       "      <td>3.923015e+06</td>\n",
       "    </tr>\n",
       "    <tr>\n",
       "      <th>mean</th>\n",
       "      <td>4.964487e+06</td>\n",
       "      <td>4.509679e+03</td>\n",
       "      <td>2.414647e+01</td>\n",
       "      <td>4.331048e+01</td>\n",
       "      <td>6.243387e-02</td>\n",
       "    </tr>\n",
       "    <tr>\n",
       "      <th>std</th>\n",
       "      <td>2.871678e+06</td>\n",
       "      <td>2.802965e+03</td>\n",
       "      <td>4.046671e+01</td>\n",
       "      <td>8.364475e+01</td>\n",
       "      <td>2.419419e-01</td>\n",
       "    </tr>\n",
       "    <tr>\n",
       "      <th>min</th>\n",
       "      <td>3.000000e+00</td>\n",
       "      <td>1.000000e+02</td>\n",
       "      <td>0.000000e+00</td>\n",
       "      <td>0.000000e+00</td>\n",
       "      <td>0.000000e+00</td>\n",
       "    </tr>\n",
       "    <tr>\n",
       "      <th>25%</th>\n",
       "      <td>2.501294e+06</td>\n",
       "      <td>2.203000e+03</td>\n",
       "      <td>9.000000e+00</td>\n",
       "      <td>1.299000e+01</td>\n",
       "      <td>0.000000e+00</td>\n",
       "    </tr>\n",
       "    <tr>\n",
       "      <th>50%</th>\n",
       "      <td>4.920529e+06</td>\n",
       "      <td>4.207000e+03</td>\n",
       "      <td>1.535000e+01</td>\n",
       "      <td>2.450000e+01</td>\n",
       "      <td>0.000000e+00</td>\n",
       "    </tr>\n",
       "    <tr>\n",
       "      <th>75%</th>\n",
       "      <td>7.442780e+06</td>\n",
       "      <td>7.007000e+03</td>\n",
       "      <td>2.676000e+01</td>\n",
       "      <td>4.500000e+01</td>\n",
       "      <td>0.000000e+00</td>\n",
       "    </tr>\n",
       "    <tr>\n",
       "      <th>max</th>\n",
       "      <td>9.999997e+06</td>\n",
       "      <td>9.909000e+03</td>\n",
       "      <td>1.710960e+03</td>\n",
       "      <td>4.080000e+03</td>\n",
       "      <td>1.000000e+00</td>\n",
       "    </tr>\n",
       "  </tbody>\n",
       "</table>\n",
       "</div>"
      ],
      "text/plain": [
       "                sku         store          cost        retail       unknown\n",
       "count  3.923015e+06  3.923015e+06  3.923015e+06  3.923015e+06  3.923015e+06\n",
       "mean   4.964487e+06  4.509679e+03  2.414647e+01  4.331048e+01  6.243387e-02\n",
       "std    2.871678e+06  2.802965e+03  4.046671e+01  8.364475e+01  2.419419e-01\n",
       "min    3.000000e+00  1.000000e+02  0.000000e+00  0.000000e+00  0.000000e+00\n",
       "25%    2.501294e+06  2.203000e+03  9.000000e+00  1.299000e+01  0.000000e+00\n",
       "50%    4.920529e+06  4.207000e+03  1.535000e+01  2.450000e+01  0.000000e+00\n",
       "75%    7.442780e+06  7.007000e+03  2.676000e+01  4.500000e+01  0.000000e+00\n",
       "max    9.999997e+06  9.909000e+03  1.710960e+03  4.080000e+03  1.000000e+00"
      ]
     },
     "execution_count": 18,
     "metadata": {},
     "output_type": "execute_result"
    }
   ],
   "source": [
    "skstinfo_sample.describe()"
   ]
  },
  {
   "cell_type": "code",
   "execution_count": 19,
   "metadata": {},
   "outputs": [
    {
     "name": "stdout",
     "output_type": "stream",
     "text": [
      "<class 'pandas.core.frame.DataFrame'>\n",
      "Int64Index: 3923015 entries, 35754346 to 36457611\n",
      "Data columns (total 5 columns):\n",
      " #   Column   Dtype  \n",
      "---  ------   -----  \n",
      " 0   sku      int64  \n",
      " 1   store    int64  \n",
      " 2   cost     float64\n",
      " 3   retail   float64\n",
      " 4   unknown  int64  \n",
      "dtypes: float64(2), int64(3)\n",
      "memory usage: 179.6 MB\n"
     ]
    }
   ],
   "source": [
    "skstinfo_sample.info()"
   ]
  },
  {
   "cell_type": "markdown",
   "metadata": {},
   "source": [
    "## Distribution of the **cost** of the stocked items"
   ]
  },
  {
   "cell_type": "code",
   "execution_count": 23,
   "metadata": {
    "scrolled": true
   },
   "outputs": [
    {
     "data": {
      "image/png": "[encoded data removed]",
      "text/plain": [
       "<Figure size 432x288 with 1 Axes>"
      ]
     },
     "metadata": {
      "needs_background": "light"
     },
     "output_type": "display_data"
    }
   ],
   "source": [
    "plt.hist(skstinfo_sample['cost'])\n",
    "plt.show()"
   ]
  },
  {
   "cell_type": "markdown",
   "metadata": {},
   "source": [
    "- The cost price is mainly from 0-250"
   ]
  },
  {
   "cell_type": "markdown",
   "metadata": {},
   "source": [
    "## Distribution of the **retail** price of the stocked items"
   ]
  },
  {
   "cell_type": "code",
   "execution_count": 24,
   "metadata": {
    "scrolled": true
   },
   "outputs": [
    {
     "data": {
      "image/png": "[encoded data removed]",
      "text/plain": [
       "<Figure size 432x288 with 1 Axes>"
      ]
     },
     "metadata": {
      "needs_background": "light"
     },
     "output_type": "display_data"
    }
   ],
   "source": [
    "plt.hist(skstinfo_sample['retail'])\n",
    "plt.show()"
   ]
  },
  {
   "cell_type": "markdown",
   "metadata": {},
   "source": [
    "- The retail price is mainly from 0-500"
   ]
  },
  {
   "cell_type": "markdown",
   "metadata": {},
   "source": [
    "## Distribution of product popularity: number of stores have each item in stock"
   ]
  },
  {
   "cell_type": "code",
   "execution_count": 36,
   "metadata": {
    "scrolled": true
   },
   "outputs": [
    {
     "data": {
      "text/plain": [
       "(array([3.35001e+05, 7.68810e+04, 4.05800e+04, 2.01110e+04, 1.89530e+04,\n",
       "        1.39810e+04, 1.00250e+04, 2.51000e+03, 4.87000e+02, 3.20000e+01]),\n",
       " array([ 1. ,  6.5, 12. , 17.5, 23. , 28.5, 34. , 39.5, 45. , 50.5, 56. ]),\n",
       " <BarContainer object of 10 artists>)"
      ]
     },
     "execution_count": 36,
     "metadata": {},
     "output_type": "execute_result"
    },
    {
     "data": {
      "image/png": "[encoded data removed]",
      "text/plain": [
       "<Figure size 432x288 with 1 Axes>"
      ]
     },
     "metadata": {
      "needs_background": "light"
     },
     "output_type": "display_data"
    }
   ],
   "source": [
    "plt.hist(skstinfo_sample.sku.value_counts())"
   ]
  },
  {
   "cell_type": "markdown",
   "metadata": {},
   "source": [
    "- Products are mostly distributed across <20 stores"
   ]
  },
  {
   "cell_type": "markdown",
   "metadata": {},
   "source": [
    "## Top 20 popular products that are in stock across the stores"
   ]
  },
  {
   "cell_type": "code",
   "execution_count": 69,
   "metadata": {},
   "outputs": [],
   "source": [
    "# top 20 popular products that are in stock \n",
    "sku_top20 = skstinfo_sample.sku.value_counts().iloc[:20].index"
   ]
  },
  {
   "cell_type": "code",
   "execution_count": 70,
   "metadata": {
    "scrolled": false
   },
   "outputs": [
    {
     "data": {
      "text/html": [
       "<div>\n",
       "<style scoped>\n",
       "    .dataframe tbody tr th:only-of-type {\n",
       "        vertical-align: middle;\n",
       "    }\n",
       "\n",
       "    .dataframe tbody tr th {\n",
       "        vertical-align: top;\n",
       "    }\n",
       "\n",
       "    .dataframe thead th {\n",
       "        text-align: right;\n",
       "    }\n",
       "</style>\n",
       "<table border=\"1\" class=\"dataframe\">\n",
       "  <thead>\n",
       "    <tr style=\"text-align: right;\">\n",
       "      <th></th>\n",
       "      <th>sku</th>\n",
       "      <th>store</th>\n",
       "      <th>cost</th>\n",
       "      <th>retail</th>\n",
       "      <th>unknown</th>\n",
       "    </tr>\n",
       "  </thead>\n",
       "  <tbody>\n",
       "    <tr>\n",
       "      <th>8812770</th>\n",
       "      <td>2260597</td>\n",
       "      <td>3409</td>\n",
       "      <td>9.60</td>\n",
       "      <td>17.0</td>\n",
       "      <td>0</td>\n",
       "    </tr>\n",
       "    <tr>\n",
       "      <th>38201913</th>\n",
       "      <td>9741064</td>\n",
       "      <td>1109</td>\n",
       "      <td>17.10</td>\n",
       "      <td>28.5</td>\n",
       "      <td>0</td>\n",
       "    </tr>\n",
       "    <tr>\n",
       "      <th>36927275</th>\n",
       "      <td>9402188</td>\n",
       "      <td>2602</td>\n",
       "      <td>18.60</td>\n",
       "      <td>31.0</td>\n",
       "      <td>0</td>\n",
       "    </tr>\n",
       "    <tr>\n",
       "      <th>16470773</th>\n",
       "      <td>4156835</td>\n",
       "      <td>6109</td>\n",
       "      <td>14.88</td>\n",
       "      <td>35.0</td>\n",
       "      <td>0</td>\n",
       "    </tr>\n",
       "    <tr>\n",
       "      <th>4232126</th>\n",
       "      <td>1070026</td>\n",
       "      <td>709</td>\n",
       "      <td>13.75</td>\n",
       "      <td>42.0</td>\n",
       "      <td>0</td>\n",
       "    </tr>\n",
       "    <tr>\n",
       "      <th>...</th>\n",
       "      <td>...</td>\n",
       "      <td>...</td>\n",
       "      <td>...</td>\n",
       "      <td>...</td>\n",
       "      <td>...</td>\n",
       "    </tr>\n",
       "    <tr>\n",
       "      <th>5695822</th>\n",
       "      <td>1456627</td>\n",
       "      <td>2104</td>\n",
       "      <td>30.00</td>\n",
       "      <td>69.0</td>\n",
       "      <td>1</td>\n",
       "    </tr>\n",
       "    <tr>\n",
       "      <th>22003448</th>\n",
       "      <td>5520671</td>\n",
       "      <td>9609</td>\n",
       "      <td>2.88</td>\n",
       "      <td>7.0</td>\n",
       "      <td>0</td>\n",
       "    </tr>\n",
       "    <tr>\n",
       "      <th>7508513</th>\n",
       "      <td>1929007</td>\n",
       "      <td>7502</td>\n",
       "      <td>30.00</td>\n",
       "      <td>60.0</td>\n",
       "      <td>0</td>\n",
       "    </tr>\n",
       "    <tr>\n",
       "      <th>16281195</th>\n",
       "      <td>4106915</td>\n",
       "      <td>6204</td>\n",
       "      <td>8.10</td>\n",
       "      <td>18.0</td>\n",
       "      <td>0</td>\n",
       "    </tr>\n",
       "    <tr>\n",
       "      <th>24627587</th>\n",
       "      <td>6188964</td>\n",
       "      <td>4209</td>\n",
       "      <td>1.75</td>\n",
       "      <td>3.0</td>\n",
       "      <td>0</td>\n",
       "    </tr>\n",
       "  </tbody>\n",
       "</table>\n",
       "<p>1063 rows × 5 columns</p>\n",
       "</div>"
      ],
      "text/plain": [
       "              sku  store   cost  retail  unknown\n",
       "8812770   2260597   3409   9.60    17.0        0\n",
       "38201913  9741064   1109  17.10    28.5        0\n",
       "36927275  9402188   2602  18.60    31.0        0\n",
       "16470773  4156835   6109  14.88    35.0        0\n",
       "4232126   1070026    709  13.75    42.0        0\n",
       "...           ...    ...    ...     ...      ...\n",
       "5695822   1456627   2104  30.00    69.0        1\n",
       "22003448  5520671   9609   2.88     7.0        0\n",
       "7508513   1929007   7502  30.00    60.0        0\n",
       "16281195  4106915   6204   8.10    18.0        0\n",
       "24627587  6188964   4209   1.75     3.0        0\n",
       "\n",
       "[1063 rows x 5 columns]"
      ]
     },
     "execution_count": 70,
     "metadata": {},
     "output_type": "execute_result"
    }
   ],
   "source": [
    "df_sku_top20 = skstinfo_sample[skstinfo_sample['sku'].isin(sku_top20)]\n",
    "df_sku_top20"
   ]
  },
  {
   "cell_type": "markdown",
   "metadata": {},
   "source": [
    "## Retail price distribution for the top 20 popular products"
   ]
  },
  {
   "cell_type": "code",
   "execution_count": 75,
   "metadata": {
    "scrolled": true
   },
   "outputs": [
    {
     "data": {
      "image/png": "[encoded data removed]",
      "text/plain": [
       "<Figure size 432x288 with 1 Axes>"
      ]
     },
     "metadata": {
      "needs_background": "light"
     },
     "output_type": "display_data"
    }
   ],
   "source": [
    "plt.hist(df_sku_top20['retail'])\n",
    "plt.title(\"retail price distribution for the top 20 products\")\n",
    "plt.xlabel('retail prrice')\n",
    "plt.ylabel('frequency')\n",
    "plt.show()"
   ]
  },
  {
   "cell_type": "markdown",
   "metadata": {},
   "source": [
    "- Retail prices for the top 20 popular products distributes unevenly"
   ]
  },
  {
   "cell_type": "markdown",
   "metadata": {},
   "source": [
    "## Average retail price for each product across all stores"
   ]
  },
  {
   "cell_type": "code",
   "execution_count": 76,
   "metadata": {},
   "outputs": [
    {
     "data": {
      "text/html": [
       "<div>\n",
       "<style scoped>\n",
       "    .dataframe tbody tr th:only-of-type {\n",
       "        vertical-align: middle;\n",
       "    }\n",
       "\n",
       "    .dataframe tbody tr th {\n",
       "        vertical-align: top;\n",
       "    }\n",
       "\n",
       "    .dataframe thead th {\n",
       "        text-align: right;\n",
       "    }\n",
       "</style>\n",
       "<table border=\"1\" class=\"dataframe\">\n",
       "  <thead>\n",
       "    <tr style=\"text-align: right;\">\n",
       "      <th></th>\n",
       "      <th>avg_retail_price</th>\n",
       "    </tr>\n",
       "    <tr>\n",
       "      <th>sku</th>\n",
       "      <th></th>\n",
       "    </tr>\n",
       "  </thead>\n",
       "  <tbody>\n",
       "    <tr>\n",
       "      <th>1070026</th>\n",
       "      <td>42.000000</td>\n",
       "    </tr>\n",
       "    <tr>\n",
       "      <th>1456627</th>\n",
       "      <td>69.000000</td>\n",
       "    </tr>\n",
       "    <tr>\n",
       "      <th>1929007</th>\n",
       "      <td>60.000000</td>\n",
       "    </tr>\n",
       "    <tr>\n",
       "      <th>2260597</th>\n",
       "      <td>17.000000</td>\n",
       "    </tr>\n",
       "    <tr>\n",
       "      <th>3151740</th>\n",
       "      <td>16.000000</td>\n",
       "    </tr>\n",
       "    <tr>\n",
       "      <th>4106915</th>\n",
       "      <td>18.000000</td>\n",
       "    </tr>\n",
       "    <tr>\n",
       "      <th>4156835</th>\n",
       "      <td>35.000000</td>\n",
       "    </tr>\n",
       "    <tr>\n",
       "      <th>5181713</th>\n",
       "      <td>65.000000</td>\n",
       "    </tr>\n",
       "    <tr>\n",
       "      <th>5520671</th>\n",
       "      <td>7.000000</td>\n",
       "    </tr>\n",
       "    <tr>\n",
       "      <th>6188964</th>\n",
       "      <td>2.980769</td>\n",
       "    </tr>\n",
       "    <tr>\n",
       "      <th>7781054</th>\n",
       "      <td>35.000000</td>\n",
       "    </tr>\n",
       "    <tr>\n",
       "      <th>7929762</th>\n",
       "      <td>13.500000</td>\n",
       "    </tr>\n",
       "    <tr>\n",
       "      <th>8013161</th>\n",
       "      <td>108.000000</td>\n",
       "    </tr>\n",
       "    <tr>\n",
       "      <th>8339633</th>\n",
       "      <td>14.952830</td>\n",
       "    </tr>\n",
       "    <tr>\n",
       "      <th>8432239</th>\n",
       "      <td>90.000000</td>\n",
       "    </tr>\n",
       "    <tr>\n",
       "      <th>9057495</th>\n",
       "      <td>14.191346</td>\n",
       "    </tr>\n",
       "    <tr>\n",
       "      <th>9190967</th>\n",
       "      <td>7.000000</td>\n",
       "    </tr>\n",
       "    <tr>\n",
       "      <th>9402188</th>\n",
       "      <td>31.000000</td>\n",
       "    </tr>\n",
       "    <tr>\n",
       "      <th>9519409</th>\n",
       "      <td>46.000000</td>\n",
       "    </tr>\n",
       "    <tr>\n",
       "      <th>9741064</th>\n",
       "      <td>28.500000</td>\n",
       "    </tr>\n",
       "  </tbody>\n",
       "</table>\n",
       "</div>"
      ],
      "text/plain": [
       "         avg_retail_price\n",
       "sku                      \n",
       "1070026         42.000000\n",
       "1456627         69.000000\n",
       "1929007         60.000000\n",
       "2260597         17.000000\n",
       "3151740         16.000000\n",
       "4106915         18.000000\n",
       "4156835         35.000000\n",
       "5181713         65.000000\n",
       "5520671          7.000000\n",
       "6188964          2.980769\n",
       "7781054         35.000000\n",
       "7929762         13.500000\n",
       "8013161        108.000000\n",
       "8339633         14.952830\n",
       "8432239         90.000000\n",
       "9057495         14.191346\n",
       "9190967          7.000000\n",
       "9402188         31.000000\n",
       "9519409         46.000000\n",
       "9741064         28.500000"
      ]
     },
     "execution_count": 76,
     "metadata": {},
     "output_type": "execute_result"
    }
   ],
   "source": [
    "df_sku_top20_avg_price = df_sku_top20.groupby(['sku']).agg(avg_retail_price = ('retail', 'mean'))\n",
    "df_sku_top20_avg_price"
   ]
  },
  {
   "cell_type": "markdown",
   "metadata": {},
   "source": [
    "## The least 20 popular products that are in stock across the stores"
   ]
  },
  {
   "cell_type": "code",
   "execution_count": 73,
   "metadata": {
    "scrolled": false
   },
   "outputs": [
    {
     "data": {
      "text/html": [
       "<div>\n",
       "<style scoped>\n",
       "    .dataframe tbody tr th:only-of-type {\n",
       "        vertical-align: middle;\n",
       "    }\n",
       "\n",
       "    .dataframe tbody tr th {\n",
       "        vertical-align: top;\n",
       "    }\n",
       "\n",
       "    .dataframe thead th {\n",
       "        text-align: right;\n",
       "    }\n",
       "</style>\n",
       "<table border=\"1\" class=\"dataframe\">\n",
       "  <thead>\n",
       "    <tr style=\"text-align: right;\">\n",
       "      <th></th>\n",
       "      <th>sku</th>\n",
       "      <th>store</th>\n",
       "      <th>cost</th>\n",
       "      <th>retail</th>\n",
       "      <th>unknown</th>\n",
       "    </tr>\n",
       "  </thead>\n",
       "  <tbody>\n",
       "    <tr>\n",
       "      <th>3509908</th>\n",
       "      <td>886369</td>\n",
       "      <td>6002</td>\n",
       "      <td>9.63</td>\n",
       "      <td>17.50</td>\n",
       "      <td>0</td>\n",
       "    </tr>\n",
       "    <tr>\n",
       "      <th>4543423</th>\n",
       "      <td>1151482</td>\n",
       "      <td>5504</td>\n",
       "      <td>8.10</td>\n",
       "      <td>13.50</td>\n",
       "      <td>0</td>\n",
       "    </tr>\n",
       "    <tr>\n",
       "      <th>30364531</th>\n",
       "      <td>7676606</td>\n",
       "      <td>2604</td>\n",
       "      <td>31.50</td>\n",
       "      <td>84.00</td>\n",
       "      <td>0</td>\n",
       "    </tr>\n",
       "    <tr>\n",
       "      <th>15642564</th>\n",
       "      <td>3949072</td>\n",
       "      <td>9806</td>\n",
       "      <td>6.50</td>\n",
       "      <td>13.00</td>\n",
       "      <td>0</td>\n",
       "    </tr>\n",
       "    <tr>\n",
       "      <th>26683850</th>\n",
       "      <td>6720639</td>\n",
       "      <td>1509</td>\n",
       "      <td>98.00</td>\n",
       "      <td>198.00</td>\n",
       "      <td>0</td>\n",
       "    </tr>\n",
       "    <tr>\n",
       "      <th>20579195</th>\n",
       "      <td>5168883</td>\n",
       "      <td>4202</td>\n",
       "      <td>23.75</td>\n",
       "      <td>29.50</td>\n",
       "      <td>0</td>\n",
       "    </tr>\n",
       "    <tr>\n",
       "      <th>26610923</th>\n",
       "      <td>6699776</td>\n",
       "      <td>4904</td>\n",
       "      <td>18.50</td>\n",
       "      <td>17.25</td>\n",
       "      <td>1</td>\n",
       "    </tr>\n",
       "    <tr>\n",
       "      <th>26264662</th>\n",
       "      <td>6608284</td>\n",
       "      <td>2203</td>\n",
       "      <td>32.37</td>\n",
       "      <td>20.00</td>\n",
       "      <td>0</td>\n",
       "    </tr>\n",
       "    <tr>\n",
       "      <th>6058696</th>\n",
       "      <td>1553985</td>\n",
       "      <td>1904</td>\n",
       "      <td>15.47</td>\n",
       "      <td>34.00</td>\n",
       "      <td>0</td>\n",
       "    </tr>\n",
       "    <tr>\n",
       "      <th>17555323</th>\n",
       "      <td>4416462</td>\n",
       "      <td>4504</td>\n",
       "      <td>35.67</td>\n",
       "      <td>22.25</td>\n",
       "      <td>0</td>\n",
       "    </tr>\n",
       "    <tr>\n",
       "      <th>14916448</th>\n",
       "      <td>3767611</td>\n",
       "      <td>2603</td>\n",
       "      <td>31.00</td>\n",
       "      <td>32.00</td>\n",
       "      <td>0</td>\n",
       "    </tr>\n",
       "    <tr>\n",
       "      <th>17820416</th>\n",
       "      <td>4479360</td>\n",
       "      <td>209</td>\n",
       "      <td>19.06</td>\n",
       "      <td>56.00</td>\n",
       "      <td>0</td>\n",
       "    </tr>\n",
       "    <tr>\n",
       "      <th>10895198</th>\n",
       "      <td>2783594</td>\n",
       "      <td>4109</td>\n",
       "      <td>37.50</td>\n",
       "      <td>18.75</td>\n",
       "      <td>0</td>\n",
       "    </tr>\n",
       "    <tr>\n",
       "      <th>36509092</th>\n",
       "      <td>9296401</td>\n",
       "      <td>3209</td>\n",
       "      <td>17.88</td>\n",
       "      <td>10.00</td>\n",
       "      <td>0</td>\n",
       "    </tr>\n",
       "    <tr>\n",
       "      <th>15722719</th>\n",
       "      <td>3969482</td>\n",
       "      <td>5704</td>\n",
       "      <td>12.50</td>\n",
       "      <td>27.00</td>\n",
       "      <td>0</td>\n",
       "    </tr>\n",
       "    <tr>\n",
       "      <th>13749784</th>\n",
       "      <td>3480842</td>\n",
       "      <td>403</td>\n",
       "      <td>18.84</td>\n",
       "      <td>11.50</td>\n",
       "      <td>0</td>\n",
       "    </tr>\n",
       "    <tr>\n",
       "      <th>6694236</th>\n",
       "      <td>1709018</td>\n",
       "      <td>8409</td>\n",
       "      <td>22.50</td>\n",
       "      <td>12.25</td>\n",
       "      <td>1</td>\n",
       "    </tr>\n",
       "    <tr>\n",
       "      <th>38924657</th>\n",
       "      <td>9921959</td>\n",
       "      <td>9309</td>\n",
       "      <td>4.50</td>\n",
       "      <td>4.50</td>\n",
       "      <td>0</td>\n",
       "    </tr>\n",
       "    <tr>\n",
       "      <th>17831093</th>\n",
       "      <td>4480384</td>\n",
       "      <td>8602</td>\n",
       "      <td>25.50</td>\n",
       "      <td>14.75</td>\n",
       "      <td>1</td>\n",
       "    </tr>\n",
       "    <tr>\n",
       "      <th>24412553</th>\n",
       "      <td>6133649</td>\n",
       "      <td>7107</td>\n",
       "      <td>19.75</td>\n",
       "      <td>9.87</td>\n",
       "      <td>0</td>\n",
       "    </tr>\n",
       "  </tbody>\n",
       "</table>\n",
       "</div>"
      ],
      "text/plain": [
       "              sku  store   cost  retail  unknown\n",
       "3509908    886369   6002   9.63   17.50        0\n",
       "4543423   1151482   5504   8.10   13.50        0\n",
       "30364531  7676606   2604  31.50   84.00        0\n",
       "15642564  3949072   9806   6.50   13.00        0\n",
       "26683850  6720639   1509  98.00  198.00        0\n",
       "20579195  5168883   4202  23.75   29.50        0\n",
       "26610923  6699776   4904  18.50   17.25        1\n",
       "26264662  6608284   2203  32.37   20.00        0\n",
       "6058696   1553985   1904  15.47   34.00        0\n",
       "17555323  4416462   4504  35.67   22.25        0\n",
       "14916448  3767611   2603  31.00   32.00        0\n",
       "17820416  4479360    209  19.06   56.00        0\n",
       "10895198  2783594   4109  37.50   18.75        0\n",
       "36509092  9296401   3209  17.88   10.00        0\n",
       "15722719  3969482   5704  12.50   27.00        0\n",
       "13749784  3480842    403  18.84   11.50        0\n",
       "6694236   1709018   8409  22.50   12.25        1\n",
       "38924657  9921959   9309   4.50    4.50        0\n",
       "17831093  4480384   8602  25.50   14.75        1\n",
       "24412553  6133649   7107  19.75    9.87        0"
      ]
     },
     "execution_count": 73,
     "metadata": {},
     "output_type": "execute_result"
    }
   ],
   "source": [
    "sku_last20 = skstinfo_sample.sku.value_counts().iloc[-20:].index\n",
    "df_sku_last20 = skstinfo_sample[skstinfo_sample['sku'].isin(sku_last20)]\n",
    "df_sku_last20"
   ]
  },
  {
   "cell_type": "markdown",
   "metadata": {},
   "source": [
    "## Retail price distribution for the least 20 popular products"
   ]
  },
  {
   "cell_type": "code",
   "execution_count": 74,
   "metadata": {
    "scrolled": false
   },
   "outputs": [
    {
     "data": {
      "image/png": "[encoded data removed]",
      "text/plain": [
       "<Figure size 432x288 with 1 Axes>"
      ]
     },
     "metadata": {
      "needs_background": "light"
     },
     "output_type": "display_data"
    }
   ],
   "source": [
    "plt.hist(df_sku_last20['retail'])\n",
    "plt.title(\"retail price distribution for the last 20 popular products\")\n",
    "plt.xlabel('retail prrice')\n",
    "plt.ylabel('frequency')\n",
    "plt.show()"
   ]
  },
  {
   "cell_type": "markdown",
   "metadata": {},
   "source": [
    "- Retail prices for the least 20 popular products distributes unevenly, and mostly cost <50"
   ]
  },
  {
   "cell_type": "markdown",
   "metadata": {},
   "source": [
    "## Average retail price for each product across all stores"
   ]
  },
  {
   "cell_type": "code",
   "execution_count": 77,
   "metadata": {},
   "outputs": [
    {
     "data": {
      "text/html": [
       "<div>\n",
       "<style scoped>\n",
       "    .dataframe tbody tr th:only-of-type {\n",
       "        vertical-align: middle;\n",
       "    }\n",
       "\n",
       "    .dataframe tbody tr th {\n",
       "        vertical-align: top;\n",
       "    }\n",
       "\n",
       "    .dataframe thead th {\n",
       "        text-align: right;\n",
       "    }\n",
       "</style>\n",
       "<table border=\"1\" class=\"dataframe\">\n",
       "  <thead>\n",
       "    <tr style=\"text-align: right;\">\n",
       "      <th></th>\n",
       "      <th>avg_retail_price</th>\n",
       "    </tr>\n",
       "    <tr>\n",
       "      <th>sku</th>\n",
       "      <th></th>\n",
       "    </tr>\n",
       "  </thead>\n",
       "  <tbody>\n",
       "    <tr>\n",
       "      <th>886369</th>\n",
       "      <td>17.50</td>\n",
       "    </tr>\n",
       "    <tr>\n",
       "      <th>1151482</th>\n",
       "      <td>13.50</td>\n",
       "    </tr>\n",
       "    <tr>\n",
       "      <th>1553985</th>\n",
       "      <td>34.00</td>\n",
       "    </tr>\n",
       "    <tr>\n",
       "      <th>1709018</th>\n",
       "      <td>12.25</td>\n",
       "    </tr>\n",
       "    <tr>\n",
       "      <th>2783594</th>\n",
       "      <td>18.75</td>\n",
       "    </tr>\n",
       "    <tr>\n",
       "      <th>3480842</th>\n",
       "      <td>11.50</td>\n",
       "    </tr>\n",
       "    <tr>\n",
       "      <th>3767611</th>\n",
       "      <td>32.00</td>\n",
       "    </tr>\n",
       "    <tr>\n",
       "      <th>3949072</th>\n",
       "      <td>13.00</td>\n",
       "    </tr>\n",
       "    <tr>\n",
       "      <th>3969482</th>\n",
       "      <td>27.00</td>\n",
       "    </tr>\n",
       "    <tr>\n",
       "      <th>4416462</th>\n",
       "      <td>22.25</td>\n",
       "    </tr>\n",
       "    <tr>\n",
       "      <th>4479360</th>\n",
       "      <td>56.00</td>\n",
       "    </tr>\n",
       "    <tr>\n",
       "      <th>4480384</th>\n",
       "      <td>14.75</td>\n",
       "    </tr>\n",
       "    <tr>\n",
       "      <th>5168883</th>\n",
       "      <td>29.50</td>\n",
       "    </tr>\n",
       "    <tr>\n",
       "      <th>6133649</th>\n",
       "      <td>9.87</td>\n",
       "    </tr>\n",
       "    <tr>\n",
       "      <th>6608284</th>\n",
       "      <td>20.00</td>\n",
       "    </tr>\n",
       "    <tr>\n",
       "      <th>6699776</th>\n",
       "      <td>17.25</td>\n",
       "    </tr>\n",
       "    <tr>\n",
       "      <th>6720639</th>\n",
       "      <td>198.00</td>\n",
       "    </tr>\n",
       "    <tr>\n",
       "      <th>7676606</th>\n",
       "      <td>84.00</td>\n",
       "    </tr>\n",
       "    <tr>\n",
       "      <th>9296401</th>\n",
       "      <td>10.00</td>\n",
       "    </tr>\n",
       "    <tr>\n",
       "      <th>9921959</th>\n",
       "      <td>4.50</td>\n",
       "    </tr>\n",
       "  </tbody>\n",
       "</table>\n",
       "</div>"
      ],
      "text/plain": [
       "         avg_retail_price\n",
       "sku                      \n",
       "886369              17.50\n",
       "1151482             13.50\n",
       "1553985             34.00\n",
       "1709018             12.25\n",
       "2783594             18.75\n",
       "3480842             11.50\n",
       "3767611             32.00\n",
       "3949072             13.00\n",
       "3969482             27.00\n",
       "4416462             22.25\n",
       "4479360             56.00\n",
       "4480384             14.75\n",
       "5168883             29.50\n",
       "6133649              9.87\n",
       "6608284             20.00\n",
       "6699776             17.25\n",
       "6720639            198.00\n",
       "7676606             84.00\n",
       "9296401             10.00\n",
       "9921959              4.50"
      ]
     },
     "execution_count": 77,
     "metadata": {},
     "output_type": "execute_result"
    }
   ],
   "source": [
    "df_sku_last20_avg_price = df_sku_last20.groupby(['sku']).agg(avg_retail_price = ('retail', 'mean'))\n",
    "df_sku_last20_avg_price"
   ]
  },
  {
   "cell_type": "code",
   "execution_count": 78,
   "metadata": {},
   "outputs": [
    {
     "data": {
      "text/plain": [
       "32.281"
      ]
     },
     "execution_count": 78,
     "metadata": {},
     "output_type": "execute_result"
    }
   ],
   "source": [
    "#calculate average price for the last 20 popular products\n",
    "np.mean(df_sku_last20_avg_price['avg_retail_price'])"
   ]
  },
  {
   "cell_type": "code",
   "execution_count": 79,
   "metadata": {},
   "outputs": [
    {
     "data": {
      "text/plain": [
       "36.00624727866473"
      ]
     },
     "execution_count": 79,
     "metadata": {},
     "output_type": "execute_result"
    }
   ],
   "source": [
    "#calculate average price for the top 20 popular products\n",
    "np.mean(df_sku_top20_avg_price['avg_retail_price'])"
   ]
  },
  {
   "cell_type": "markdown",
   "metadata": {},
   "source": [
    "## Summary of findings:\n",
    "- The cost price is mainly from 0-250\n",
    "- The retail price is mainly from 0-500\n",
    "- Products are mostly distributed across <20 stores\n",
    "- Retail prices for the top 20 popular products distributes unevenly\n",
    "- Retail prices for the least 20 popular products distributes unevenly, and mostly cost <50\n",
    "- The average retail price for the top 10 products and last 10 products are pretty similar, so retail price may not play an influential role on product popularity.\n"
   ]
  },
  {
   "cell_type": "code",
   "execution_count": null,
   "metadata": {},
   "outputs": [],
   "source": []
  }
 ],
 "metadata": {
  "kernelspec": {
   "display_name": "Python 3 (ipykernel)",
   "language": "python",
   "name": "python3"
  },
  "language_info": {
   "codemirror_mode": {
    "name": "ipython",
    "version": 3
   },
   "file_extension": ".py",
   "mimetype": "text/x-python",
   "name": "python",
   "nbconvert_exporter": "python",
   "pygments_lexer": "ipython3",
   "version": "3.7.6"
  },
  "vscode": {
   "interpreter": {
    "hash": "03a518b0a9fed135cdc71fe6f4ccda9ae8d0c1b159b251c910bab6b3453c7a38"
   }
  }
 },
 "nbformat": 4,
 "nbformat_minor": 2
}
